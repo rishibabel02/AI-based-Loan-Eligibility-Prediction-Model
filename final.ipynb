{
  "cells": [
    {
      "cell_type": "code",
      "execution_count": 1,
      "metadata": {
        "id": "QZqS4bVSC6VF"
      },
      "outputs": [],
      "source": [
        "# from google.colab import files\n",
        "# uploaded = files.upload()"
      ]
    },
    {
      "cell_type": "code",
      "execution_count": 2,
      "metadata": {
        "collapsed": true,
        "id": "Oq4LiJxm_Bvu"
      },
      "outputs": [],
      "source": [
        "%matplotlib inline\n",
        "import numpy as np\n",
        "import pandas as pd\n",
        "import seaborn as sns\n",
        "sns.set(style='darkgrid')\n",
        "import matplotlib.pyplot as plt"
      ]
    },
    {
      "cell_type": "code",
      "execution_count": 3,
      "metadata": {
        "collapsed": true,
        "id": "JdIFlYvN_Bvx"
      },
      "outputs": [],
      "source": [
        "df = pd.read_csv('data/train_u6lujuX_CVtuZ9i.csv')"
      ]
    },
    {
      "cell_type": "code",
      "execution_count": 4,
      "metadata": {
        "colab": {
          "base_uri": "https://localhost:8080/",
          "height": 241
        },
        "id": "JQao8r0y_Bvx",
        "outputId": "6b2812f5-7625-45e9-97ba-3ff43c76e846"
      },
      "outputs": [
        {
          "data": {
            "text/html": [
              "<div>\n",
              "<style scoped>\n",
              "    .dataframe tbody tr th:only-of-type {\n",
              "        vertical-align: middle;\n",
              "    }\n",
              "\n",
              "    .dataframe tbody tr th {\n",
              "        vertical-align: top;\n",
              "    }\n",
              "\n",
              "    .dataframe thead th {\n",
              "        text-align: right;\n",
              "    }\n",
              "</style>\n",
              "<table border=\"1\" class=\"dataframe\">\n",
              "  <thead>\n",
              "    <tr style=\"text-align: right;\">\n",
              "      <th></th>\n",
              "      <th>Loan_ID</th>\n",
              "      <th>Gender</th>\n",
              "      <th>Married</th>\n",
              "      <th>Dependents</th>\n",
              "      <th>Education</th>\n",
              "      <th>Self_Employed</th>\n",
              "      <th>ApplicantIncome</th>\n",
              "      <th>CoapplicantIncome</th>\n",
              "      <th>LoanAmount</th>\n",
              "      <th>Loan_Amount_Term</th>\n",
              "      <th>Credit_History</th>\n",
              "      <th>Property_Area</th>\n",
              "      <th>Loan_Status</th>\n",
              "    </tr>\n",
              "  </thead>\n",
              "  <tbody>\n",
              "    <tr>\n",
              "      <th>0</th>\n",
              "      <td>LP001002</td>\n",
              "      <td>Male</td>\n",
              "      <td>No</td>\n",
              "      <td>0</td>\n",
              "      <td>Graduate</td>\n",
              "      <td>No</td>\n",
              "      <td>5849</td>\n",
              "      <td>0.0</td>\n",
              "      <td>NaN</td>\n",
              "      <td>360.0</td>\n",
              "      <td>1.0</td>\n",
              "      <td>Urban</td>\n",
              "      <td>Y</td>\n",
              "    </tr>\n",
              "    <tr>\n",
              "      <th>1</th>\n",
              "      <td>LP001003</td>\n",
              "      <td>Male</td>\n",
              "      <td>Yes</td>\n",
              "      <td>1</td>\n",
              "      <td>Graduate</td>\n",
              "      <td>No</td>\n",
              "      <td>4583</td>\n",
              "      <td>1508.0</td>\n",
              "      <td>128.0</td>\n",
              "      <td>360.0</td>\n",
              "      <td>1.0</td>\n",
              "      <td>Rural</td>\n",
              "      <td>N</td>\n",
              "    </tr>\n",
              "    <tr>\n",
              "      <th>2</th>\n",
              "      <td>LP001005</td>\n",
              "      <td>Male</td>\n",
              "      <td>Yes</td>\n",
              "      <td>0</td>\n",
              "      <td>Graduate</td>\n",
              "      <td>Yes</td>\n",
              "      <td>3000</td>\n",
              "      <td>0.0</td>\n",
              "      <td>66.0</td>\n",
              "      <td>360.0</td>\n",
              "      <td>1.0</td>\n",
              "      <td>Urban</td>\n",
              "      <td>Y</td>\n",
              "    </tr>\n",
              "    <tr>\n",
              "      <th>3</th>\n",
              "      <td>LP001006</td>\n",
              "      <td>Male</td>\n",
              "      <td>Yes</td>\n",
              "      <td>0</td>\n",
              "      <td>Not Graduate</td>\n",
              "      <td>No</td>\n",
              "      <td>2583</td>\n",
              "      <td>2358.0</td>\n",
              "      <td>120.0</td>\n",
              "      <td>360.0</td>\n",
              "      <td>1.0</td>\n",
              "      <td>Urban</td>\n",
              "      <td>Y</td>\n",
              "    </tr>\n",
              "    <tr>\n",
              "      <th>4</th>\n",
              "      <td>LP001008</td>\n",
              "      <td>Male</td>\n",
              "      <td>No</td>\n",
              "      <td>0</td>\n",
              "      <td>Graduate</td>\n",
              "      <td>No</td>\n",
              "      <td>6000</td>\n",
              "      <td>0.0</td>\n",
              "      <td>141.0</td>\n",
              "      <td>360.0</td>\n",
              "      <td>1.0</td>\n",
              "      <td>Urban</td>\n",
              "      <td>Y</td>\n",
              "    </tr>\n",
              "  </tbody>\n",
              "</table>\n",
              "</div>"
            ],
            "text/plain": [
              "    Loan_ID Gender Married Dependents     Education Self_Employed  \\\n",
              "0  LP001002   Male      No          0      Graduate            No   \n",
              "1  LP001003   Male     Yes          1      Graduate            No   \n",
              "2  LP001005   Male     Yes          0      Graduate           Yes   \n",
              "3  LP001006   Male     Yes          0  Not Graduate            No   \n",
              "4  LP001008   Male      No          0      Graduate            No   \n",
              "\n",
              "   ApplicantIncome  CoapplicantIncome  LoanAmount  Loan_Amount_Term  \\\n",
              "0             5849                0.0         NaN             360.0   \n",
              "1             4583             1508.0       128.0             360.0   \n",
              "2             3000                0.0        66.0             360.0   \n",
              "3             2583             2358.0       120.0             360.0   \n",
              "4             6000                0.0       141.0             360.0   \n",
              "\n",
              "   Credit_History Property_Area Loan_Status  \n",
              "0             1.0         Urban           Y  \n",
              "1             1.0         Rural           N  \n",
              "2             1.0         Urban           Y  \n",
              "3             1.0         Urban           Y  \n",
              "4             1.0         Urban           Y  "
            ]
          },
          "execution_count": 4,
          "metadata": {},
          "output_type": "execute_result"
        }
      ],
      "source": [
        "df.head()"
      ]
    },
    {
      "cell_type": "markdown",
      "metadata": {
        "id": "6v6mN5_y_Bvy"
      },
      "source": [
        "Well some of the columns has the missing values. So I filled them mode of the respective columns.\n",
        "Further there were several categorize labels, which were actually 'object' type.\n",
        "I converted 'object' dtype to 'int' type manually using map()"
      ]
    },
    {
      "cell_type": "code",
      "execution_count": 5,
      "metadata": {
        "collapsed": true,
        "id": "2YM1bc_U_Bvz"
      },
      "outputs": [],
      "source": [
        "df['Gender'] = df['Gender'].fillna( df['Gender'].dropna().mode().values[0] )\n",
        "df['Married'] = df['Married'].fillna( df['Married'].dropna().mode().values[0] )\n",
        "df['Dependents'] = df['Dependents'].fillna( df['Dependents'].dropna().mode().values[0] )\n",
        "df['Self_Employed'] = df['Self_Employed'].fillna( df['Self_Employed'].dropna().mode().values[0] )\n",
        "df['LoanAmount'] = df['LoanAmount'].fillna( df['LoanAmount'].dropna().mean() )\n",
        "df['Loan_Amount_Term'] = df['Loan_Amount_Term'].fillna( df['Loan_Amount_Term'].dropna().mode().values[0] )\n",
        "df['Credit_History'] = df['Credit_History'].fillna( df['Credit_History'].dropna().mode().values[0] )\n",
        "\n",
        "\n",
        "df['Dependents'] = df['Dependents'].fillna('0').str.rstrip('+')\n",
        "df['Gender'] = df['Gender'].map({'Female':0,'Male':1}).astype(int)\n",
        "df['Married'] = df['Married'].map({'No':0, 'Yes':1}).astype(int)\n",
        "df['Education'] = df['Education'].map({'Not Graduate':0, 'Graduate':1}).astype(int)\n",
        "df['Self_Employed'] = df['Self_Employed'].map({'No':0, 'Yes':1}).astype(int)\n",
        "df['Loan_Status'] = df['Loan_Status'].map({'N':0, 'Y':1}).astype(int)\n",
        "df['Dependents'] = df['Dependents'].fillna('0').str.rstrip('+')"
      ]
    },
    {
      "cell_type": "code",
      "execution_count": 6,
      "metadata": {
        "colab": {
          "base_uri": "https://localhost:8080/",
          "height": 486
        },
        "id": "OOgerw9a_Bv0",
        "outputId": "6071223b-75b6-42b0-989d-0e19c8a67ae6"
      },
      "outputs": [
        {
          "data": {
            "text/plain": [
              "Loan_ID               object\n",
              "Gender                 int32\n",
              "Married                int32\n",
              "Dependents            object\n",
              "Education              int32\n",
              "Self_Employed          int32\n",
              "ApplicantIncome        int64\n",
              "CoapplicantIncome    float64\n",
              "LoanAmount           float64\n",
              "Loan_Amount_Term     float64\n",
              "Credit_History       float64\n",
              "Property_Area         object\n",
              "Loan_Status            int32\n",
              "dtype: object"
            ]
          },
          "execution_count": 6,
          "metadata": {},
          "output_type": "execute_result"
        }
      ],
      "source": [
        "df.dtypes"
      ]
    },
    {
      "cell_type": "markdown",
      "metadata": {
        "id": "3rIeSfvk_Bv0"
      },
      "source": [
        "Dividing the given train dataset in the form of features and target variables and further making use of get_dummies from pandas library"
      ]
    },
    {
      "cell_type": "code",
      "execution_count": 7,
      "metadata": {
        "collapsed": true,
        "id": "G7dy7AJS_Bv1"
      },
      "outputs": [],
      "source": [
        "X,y  = df.iloc[:, 1:-1], df.iloc[:, -1]"
      ]
    },
    {
      "cell_type": "code",
      "execution_count": 8,
      "metadata": {
        "collapsed": true,
        "id": "CC7jFMK6_Bv1"
      },
      "outputs": [],
      "source": [
        "X= pd.get_dummies(X)\n"
      ]
    },
    {
      "cell_type": "markdown",
      "metadata": {
        "id": "xvsi7sYw_Bv1"
      },
      "source": []
    },
    {
      "cell_type": "code",
      "execution_count": 9,
      "metadata": {
        "id": "l4PFE5m2_Bv1"
      },
      "outputs": [],
      "source": [
        "dtrain= pd.get_dummies(df)\n",
        "import xgboost as xgb\n",
        "from sklearn import model_selection, metrics\n",
        "from sklearn.model_selection import GridSearchCV\n",
        "\n",
        "\n",
        "\n",
        "\n",
        "\n",
        "train = dtrain\n",
        "target = 'Loan_Status'\n",
        "IDcol = 'Loan_ID'"
      ]
    },
    {
      "cell_type": "code",
      "execution_count": 10,
      "metadata": {
        "colab": {
          "base_uri": "https://localhost:8080/",
          "height": 439
        },
        "id": "3WhSuz39BZOe",
        "outputId": "f1d09bba-2110-464c-b3e3-6937f0f084f5"
      },
      "outputs": [
        {
          "data": {
            "text/html": [
              "<div>\n",
              "<style scoped>\n",
              "    .dataframe tbody tr th:only-of-type {\n",
              "        vertical-align: middle;\n",
              "    }\n",
              "\n",
              "    .dataframe tbody tr th {\n",
              "        vertical-align: top;\n",
              "    }\n",
              "\n",
              "    .dataframe thead th {\n",
              "        text-align: right;\n",
              "    }\n",
              "</style>\n",
              "<table border=\"1\" class=\"dataframe\">\n",
              "  <thead>\n",
              "    <tr style=\"text-align: right;\">\n",
              "      <th></th>\n",
              "      <th>Gender</th>\n",
              "      <th>Married</th>\n",
              "      <th>Education</th>\n",
              "      <th>Self_Employed</th>\n",
              "      <th>ApplicantIncome</th>\n",
              "      <th>CoapplicantIncome</th>\n",
              "      <th>LoanAmount</th>\n",
              "      <th>Loan_Amount_Term</th>\n",
              "      <th>Credit_History</th>\n",
              "      <th>Loan_Status</th>\n",
              "      <th>...</th>\n",
              "      <th>Loan_ID_LP002983</th>\n",
              "      <th>Loan_ID_LP002984</th>\n",
              "      <th>Loan_ID_LP002990</th>\n",
              "      <th>Dependents_0</th>\n",
              "      <th>Dependents_1</th>\n",
              "      <th>Dependents_2</th>\n",
              "      <th>Dependents_3</th>\n",
              "      <th>Property_Area_Rural</th>\n",
              "      <th>Property_Area_Semiurban</th>\n",
              "      <th>Property_Area_Urban</th>\n",
              "    </tr>\n",
              "  </thead>\n",
              "  <tbody>\n",
              "    <tr>\n",
              "      <th>0</th>\n",
              "      <td>1</td>\n",
              "      <td>0</td>\n",
              "      <td>1</td>\n",
              "      <td>0</td>\n",
              "      <td>5849</td>\n",
              "      <td>0.0</td>\n",
              "      <td>146.412162</td>\n",
              "      <td>360.0</td>\n",
              "      <td>1.0</td>\n",
              "      <td>1</td>\n",
              "      <td>...</td>\n",
              "      <td>False</td>\n",
              "      <td>False</td>\n",
              "      <td>False</td>\n",
              "      <td>True</td>\n",
              "      <td>False</td>\n",
              "      <td>False</td>\n",
              "      <td>False</td>\n",
              "      <td>False</td>\n",
              "      <td>False</td>\n",
              "      <td>True</td>\n",
              "    </tr>\n",
              "    <tr>\n",
              "      <th>1</th>\n",
              "      <td>1</td>\n",
              "      <td>1</td>\n",
              "      <td>1</td>\n",
              "      <td>0</td>\n",
              "      <td>4583</td>\n",
              "      <td>1508.0</td>\n",
              "      <td>128.000000</td>\n",
              "      <td>360.0</td>\n",
              "      <td>1.0</td>\n",
              "      <td>0</td>\n",
              "      <td>...</td>\n",
              "      <td>False</td>\n",
              "      <td>False</td>\n",
              "      <td>False</td>\n",
              "      <td>False</td>\n",
              "      <td>True</td>\n",
              "      <td>False</td>\n",
              "      <td>False</td>\n",
              "      <td>True</td>\n",
              "      <td>False</td>\n",
              "      <td>False</td>\n",
              "    </tr>\n",
              "    <tr>\n",
              "      <th>2</th>\n",
              "      <td>1</td>\n",
              "      <td>1</td>\n",
              "      <td>1</td>\n",
              "      <td>1</td>\n",
              "      <td>3000</td>\n",
              "      <td>0.0</td>\n",
              "      <td>66.000000</td>\n",
              "      <td>360.0</td>\n",
              "      <td>1.0</td>\n",
              "      <td>1</td>\n",
              "      <td>...</td>\n",
              "      <td>False</td>\n",
              "      <td>False</td>\n",
              "      <td>False</td>\n",
              "      <td>True</td>\n",
              "      <td>False</td>\n",
              "      <td>False</td>\n",
              "      <td>False</td>\n",
              "      <td>False</td>\n",
              "      <td>False</td>\n",
              "      <td>True</td>\n",
              "    </tr>\n",
              "    <tr>\n",
              "      <th>3</th>\n",
              "      <td>1</td>\n",
              "      <td>1</td>\n",
              "      <td>0</td>\n",
              "      <td>0</td>\n",
              "      <td>2583</td>\n",
              "      <td>2358.0</td>\n",
              "      <td>120.000000</td>\n",
              "      <td>360.0</td>\n",
              "      <td>1.0</td>\n",
              "      <td>1</td>\n",
              "      <td>...</td>\n",
              "      <td>False</td>\n",
              "      <td>False</td>\n",
              "      <td>False</td>\n",
              "      <td>True</td>\n",
              "      <td>False</td>\n",
              "      <td>False</td>\n",
              "      <td>False</td>\n",
              "      <td>False</td>\n",
              "      <td>False</td>\n",
              "      <td>True</td>\n",
              "    </tr>\n",
              "    <tr>\n",
              "      <th>4</th>\n",
              "      <td>1</td>\n",
              "      <td>0</td>\n",
              "      <td>1</td>\n",
              "      <td>0</td>\n",
              "      <td>6000</td>\n",
              "      <td>0.0</td>\n",
              "      <td>141.000000</td>\n",
              "      <td>360.0</td>\n",
              "      <td>1.0</td>\n",
              "      <td>1</td>\n",
              "      <td>...</td>\n",
              "      <td>False</td>\n",
              "      <td>False</td>\n",
              "      <td>False</td>\n",
              "      <td>True</td>\n",
              "      <td>False</td>\n",
              "      <td>False</td>\n",
              "      <td>False</td>\n",
              "      <td>False</td>\n",
              "      <td>False</td>\n",
              "      <td>True</td>\n",
              "    </tr>\n",
              "    <tr>\n",
              "      <th>...</th>\n",
              "      <td>...</td>\n",
              "      <td>...</td>\n",
              "      <td>...</td>\n",
              "      <td>...</td>\n",
              "      <td>...</td>\n",
              "      <td>...</td>\n",
              "      <td>...</td>\n",
              "      <td>...</td>\n",
              "      <td>...</td>\n",
              "      <td>...</td>\n",
              "      <td>...</td>\n",
              "      <td>...</td>\n",
              "      <td>...</td>\n",
              "      <td>...</td>\n",
              "      <td>...</td>\n",
              "      <td>...</td>\n",
              "      <td>...</td>\n",
              "      <td>...</td>\n",
              "      <td>...</td>\n",
              "      <td>...</td>\n",
              "      <td>...</td>\n",
              "    </tr>\n",
              "    <tr>\n",
              "      <th>609</th>\n",
              "      <td>0</td>\n",
              "      <td>0</td>\n",
              "      <td>1</td>\n",
              "      <td>0</td>\n",
              "      <td>2900</td>\n",
              "      <td>0.0</td>\n",
              "      <td>71.000000</td>\n",
              "      <td>360.0</td>\n",
              "      <td>1.0</td>\n",
              "      <td>1</td>\n",
              "      <td>...</td>\n",
              "      <td>False</td>\n",
              "      <td>False</td>\n",
              "      <td>False</td>\n",
              "      <td>True</td>\n",
              "      <td>False</td>\n",
              "      <td>False</td>\n",
              "      <td>False</td>\n",
              "      <td>True</td>\n",
              "      <td>False</td>\n",
              "      <td>False</td>\n",
              "    </tr>\n",
              "    <tr>\n",
              "      <th>610</th>\n",
              "      <td>1</td>\n",
              "      <td>1</td>\n",
              "      <td>1</td>\n",
              "      <td>0</td>\n",
              "      <td>4106</td>\n",
              "      <td>0.0</td>\n",
              "      <td>40.000000</td>\n",
              "      <td>180.0</td>\n",
              "      <td>1.0</td>\n",
              "      <td>1</td>\n",
              "      <td>...</td>\n",
              "      <td>False</td>\n",
              "      <td>False</td>\n",
              "      <td>False</td>\n",
              "      <td>False</td>\n",
              "      <td>False</td>\n",
              "      <td>False</td>\n",
              "      <td>True</td>\n",
              "      <td>True</td>\n",
              "      <td>False</td>\n",
              "      <td>False</td>\n",
              "    </tr>\n",
              "    <tr>\n",
              "      <th>611</th>\n",
              "      <td>1</td>\n",
              "      <td>1</td>\n",
              "      <td>1</td>\n",
              "      <td>0</td>\n",
              "      <td>8072</td>\n",
              "      <td>240.0</td>\n",
              "      <td>253.000000</td>\n",
              "      <td>360.0</td>\n",
              "      <td>1.0</td>\n",
              "      <td>1</td>\n",
              "      <td>...</td>\n",
              "      <td>True</td>\n",
              "      <td>False</td>\n",
              "      <td>False</td>\n",
              "      <td>False</td>\n",
              "      <td>True</td>\n",
              "      <td>False</td>\n",
              "      <td>False</td>\n",
              "      <td>False</td>\n",
              "      <td>False</td>\n",
              "      <td>True</td>\n",
              "    </tr>\n",
              "    <tr>\n",
              "      <th>612</th>\n",
              "      <td>1</td>\n",
              "      <td>1</td>\n",
              "      <td>1</td>\n",
              "      <td>0</td>\n",
              "      <td>7583</td>\n",
              "      <td>0.0</td>\n",
              "      <td>187.000000</td>\n",
              "      <td>360.0</td>\n",
              "      <td>1.0</td>\n",
              "      <td>1</td>\n",
              "      <td>...</td>\n",
              "      <td>False</td>\n",
              "      <td>True</td>\n",
              "      <td>False</td>\n",
              "      <td>False</td>\n",
              "      <td>False</td>\n",
              "      <td>True</td>\n",
              "      <td>False</td>\n",
              "      <td>False</td>\n",
              "      <td>False</td>\n",
              "      <td>True</td>\n",
              "    </tr>\n",
              "    <tr>\n",
              "      <th>613</th>\n",
              "      <td>0</td>\n",
              "      <td>0</td>\n",
              "      <td>1</td>\n",
              "      <td>1</td>\n",
              "      <td>4583</td>\n",
              "      <td>0.0</td>\n",
              "      <td>133.000000</td>\n",
              "      <td>360.0</td>\n",
              "      <td>0.0</td>\n",
              "      <td>0</td>\n",
              "      <td>...</td>\n",
              "      <td>False</td>\n",
              "      <td>False</td>\n",
              "      <td>True</td>\n",
              "      <td>True</td>\n",
              "      <td>False</td>\n",
              "      <td>False</td>\n",
              "      <td>False</td>\n",
              "      <td>False</td>\n",
              "      <td>True</td>\n",
              "      <td>False</td>\n",
              "    </tr>\n",
              "  </tbody>\n",
              "</table>\n",
              "<p>614 rows × 631 columns</p>\n",
              "</div>"
            ],
            "text/plain": [
              "     Gender  Married  Education  Self_Employed  ApplicantIncome  \\\n",
              "0         1        0          1              0             5849   \n",
              "1         1        1          1              0             4583   \n",
              "2         1        1          1              1             3000   \n",
              "3         1        1          0              0             2583   \n",
              "4         1        0          1              0             6000   \n",
              "..      ...      ...        ...            ...              ...   \n",
              "609       0        0          1              0             2900   \n",
              "610       1        1          1              0             4106   \n",
              "611       1        1          1              0             8072   \n",
              "612       1        1          1              0             7583   \n",
              "613       0        0          1              1             4583   \n",
              "\n",
              "     CoapplicantIncome  LoanAmount  Loan_Amount_Term  Credit_History  \\\n",
              "0                  0.0  146.412162             360.0             1.0   \n",
              "1               1508.0  128.000000             360.0             1.0   \n",
              "2                  0.0   66.000000             360.0             1.0   \n",
              "3               2358.0  120.000000             360.0             1.0   \n",
              "4                  0.0  141.000000             360.0             1.0   \n",
              "..                 ...         ...               ...             ...   \n",
              "609                0.0   71.000000             360.0             1.0   \n",
              "610                0.0   40.000000             180.0             1.0   \n",
              "611              240.0  253.000000             360.0             1.0   \n",
              "612                0.0  187.000000             360.0             1.0   \n",
              "613                0.0  133.000000             360.0             0.0   \n",
              "\n",
              "     Loan_Status  ...  Loan_ID_LP002983  Loan_ID_LP002984  Loan_ID_LP002990  \\\n",
              "0              1  ...             False             False             False   \n",
              "1              0  ...             False             False             False   \n",
              "2              1  ...             False             False             False   \n",
              "3              1  ...             False             False             False   \n",
              "4              1  ...             False             False             False   \n",
              "..           ...  ...               ...               ...               ...   \n",
              "609            1  ...             False             False             False   \n",
              "610            1  ...             False             False             False   \n",
              "611            1  ...              True             False             False   \n",
              "612            1  ...             False              True             False   \n",
              "613            0  ...             False             False              True   \n",
              "\n",
              "     Dependents_0  Dependents_1  Dependents_2  Dependents_3  \\\n",
              "0            True         False         False         False   \n",
              "1           False          True         False         False   \n",
              "2            True         False         False         False   \n",
              "3            True         False         False         False   \n",
              "4            True         False         False         False   \n",
              "..            ...           ...           ...           ...   \n",
              "609          True         False         False         False   \n",
              "610         False         False         False          True   \n",
              "611         False          True         False         False   \n",
              "612         False         False          True         False   \n",
              "613          True         False         False         False   \n",
              "\n",
              "     Property_Area_Rural  Property_Area_Semiurban  Property_Area_Urban  \n",
              "0                  False                    False                 True  \n",
              "1                   True                    False                False  \n",
              "2                  False                    False                 True  \n",
              "3                  False                    False                 True  \n",
              "4                  False                    False                 True  \n",
              "..                   ...                      ...                  ...  \n",
              "609                 True                    False                False  \n",
              "610                 True                    False                False  \n",
              "611                False                    False                 True  \n",
              "612                False                    False                 True  \n",
              "613                False                     True                False  \n",
              "\n",
              "[614 rows x 631 columns]"
            ]
          },
          "execution_count": 10,
          "metadata": {},
          "output_type": "execute_result"
        }
      ],
      "source": [
        "dtrain"
      ]
    },
    {
      "cell_type": "code",
      "execution_count": 11,
      "metadata": {
        "colab": {
          "base_uri": "https://localhost:8080/",
          "height": 253
        },
        "id": "95IiVl7Wjquk",
        "outputId": "eab7bb8d-20e4-4bc2-e7ad-df85c9608572"
      },
      "outputs": [
        {
          "data": {
            "text/html": [
              "<div>\n",
              "<style scoped>\n",
              "    .dataframe tbody tr th:only-of-type {\n",
              "        vertical-align: middle;\n",
              "    }\n",
              "\n",
              "    .dataframe tbody tr th {\n",
              "        vertical-align: top;\n",
              "    }\n",
              "\n",
              "    .dataframe thead th {\n",
              "        text-align: right;\n",
              "    }\n",
              "</style>\n",
              "<table border=\"1\" class=\"dataframe\">\n",
              "  <thead>\n",
              "    <tr style=\"text-align: right;\">\n",
              "      <th></th>\n",
              "      <th>Gender</th>\n",
              "      <th>Married</th>\n",
              "      <th>Education</th>\n",
              "      <th>Self_Employed</th>\n",
              "      <th>ApplicantIncome</th>\n",
              "      <th>CoapplicantIncome</th>\n",
              "      <th>LoanAmount</th>\n",
              "      <th>Loan_Amount_Term</th>\n",
              "      <th>Credit_History</th>\n",
              "      <th>Loan_Status</th>\n",
              "      <th>...</th>\n",
              "      <th>Loan_ID_LP002983</th>\n",
              "      <th>Loan_ID_LP002984</th>\n",
              "      <th>Loan_ID_LP002990</th>\n",
              "      <th>Dependents_0</th>\n",
              "      <th>Dependents_1</th>\n",
              "      <th>Dependents_2</th>\n",
              "      <th>Dependents_3</th>\n",
              "      <th>Property_Area_Rural</th>\n",
              "      <th>Property_Area_Semiurban</th>\n",
              "      <th>Property_Area_Urban</th>\n",
              "    </tr>\n",
              "  </thead>\n",
              "  <tbody>\n",
              "    <tr>\n",
              "      <th>0</th>\n",
              "      <td>1</td>\n",
              "      <td>0</td>\n",
              "      <td>1</td>\n",
              "      <td>0</td>\n",
              "      <td>5849</td>\n",
              "      <td>0.0</td>\n",
              "      <td>146.412162</td>\n",
              "      <td>360.0</td>\n",
              "      <td>1.0</td>\n",
              "      <td>1</td>\n",
              "      <td>...</td>\n",
              "      <td>False</td>\n",
              "      <td>False</td>\n",
              "      <td>False</td>\n",
              "      <td>True</td>\n",
              "      <td>False</td>\n",
              "      <td>False</td>\n",
              "      <td>False</td>\n",
              "      <td>False</td>\n",
              "      <td>False</td>\n",
              "      <td>True</td>\n",
              "    </tr>\n",
              "    <tr>\n",
              "      <th>1</th>\n",
              "      <td>1</td>\n",
              "      <td>1</td>\n",
              "      <td>1</td>\n",
              "      <td>0</td>\n",
              "      <td>4583</td>\n",
              "      <td>1508.0</td>\n",
              "      <td>128.000000</td>\n",
              "      <td>360.0</td>\n",
              "      <td>1.0</td>\n",
              "      <td>0</td>\n",
              "      <td>...</td>\n",
              "      <td>False</td>\n",
              "      <td>False</td>\n",
              "      <td>False</td>\n",
              "      <td>False</td>\n",
              "      <td>True</td>\n",
              "      <td>False</td>\n",
              "      <td>False</td>\n",
              "      <td>True</td>\n",
              "      <td>False</td>\n",
              "      <td>False</td>\n",
              "    </tr>\n",
              "    <tr>\n",
              "      <th>2</th>\n",
              "      <td>1</td>\n",
              "      <td>1</td>\n",
              "      <td>1</td>\n",
              "      <td>1</td>\n",
              "      <td>3000</td>\n",
              "      <td>0.0</td>\n",
              "      <td>66.000000</td>\n",
              "      <td>360.0</td>\n",
              "      <td>1.0</td>\n",
              "      <td>1</td>\n",
              "      <td>...</td>\n",
              "      <td>False</td>\n",
              "      <td>False</td>\n",
              "      <td>False</td>\n",
              "      <td>True</td>\n",
              "      <td>False</td>\n",
              "      <td>False</td>\n",
              "      <td>False</td>\n",
              "      <td>False</td>\n",
              "      <td>False</td>\n",
              "      <td>True</td>\n",
              "    </tr>\n",
              "    <tr>\n",
              "      <th>3</th>\n",
              "      <td>1</td>\n",
              "      <td>1</td>\n",
              "      <td>0</td>\n",
              "      <td>0</td>\n",
              "      <td>2583</td>\n",
              "      <td>2358.0</td>\n",
              "      <td>120.000000</td>\n",
              "      <td>360.0</td>\n",
              "      <td>1.0</td>\n",
              "      <td>1</td>\n",
              "      <td>...</td>\n",
              "      <td>False</td>\n",
              "      <td>False</td>\n",
              "      <td>False</td>\n",
              "      <td>True</td>\n",
              "      <td>False</td>\n",
              "      <td>False</td>\n",
              "      <td>False</td>\n",
              "      <td>False</td>\n",
              "      <td>False</td>\n",
              "      <td>True</td>\n",
              "    </tr>\n",
              "    <tr>\n",
              "      <th>4</th>\n",
              "      <td>1</td>\n",
              "      <td>0</td>\n",
              "      <td>1</td>\n",
              "      <td>0</td>\n",
              "      <td>6000</td>\n",
              "      <td>0.0</td>\n",
              "      <td>141.000000</td>\n",
              "      <td>360.0</td>\n",
              "      <td>1.0</td>\n",
              "      <td>1</td>\n",
              "      <td>...</td>\n",
              "      <td>False</td>\n",
              "      <td>False</td>\n",
              "      <td>False</td>\n",
              "      <td>True</td>\n",
              "      <td>False</td>\n",
              "      <td>False</td>\n",
              "      <td>False</td>\n",
              "      <td>False</td>\n",
              "      <td>False</td>\n",
              "      <td>True</td>\n",
              "    </tr>\n",
              "  </tbody>\n",
              "</table>\n",
              "<p>5 rows × 631 columns</p>\n",
              "</div>"
            ],
            "text/plain": [
              "   Gender  Married  Education  Self_Employed  ApplicantIncome  \\\n",
              "0       1        0          1              0             5849   \n",
              "1       1        1          1              0             4583   \n",
              "2       1        1          1              1             3000   \n",
              "3       1        1          0              0             2583   \n",
              "4       1        0          1              0             6000   \n",
              "\n",
              "   CoapplicantIncome  LoanAmount  Loan_Amount_Term  Credit_History  \\\n",
              "0                0.0  146.412162             360.0             1.0   \n",
              "1             1508.0  128.000000             360.0             1.0   \n",
              "2                0.0   66.000000             360.0             1.0   \n",
              "3             2358.0  120.000000             360.0             1.0   \n",
              "4                0.0  141.000000             360.0             1.0   \n",
              "\n",
              "   Loan_Status  ...  Loan_ID_LP002983  Loan_ID_LP002984  Loan_ID_LP002990  \\\n",
              "0            1  ...             False             False             False   \n",
              "1            0  ...             False             False             False   \n",
              "2            1  ...             False             False             False   \n",
              "3            1  ...             False             False             False   \n",
              "4            1  ...             False             False             False   \n",
              "\n",
              "   Dependents_0  Dependents_1  Dependents_2  Dependents_3  \\\n",
              "0          True         False         False         False   \n",
              "1         False          True         False         False   \n",
              "2          True         False         False         False   \n",
              "3          True         False         False         False   \n",
              "4          True         False         False         False   \n",
              "\n",
              "   Property_Area_Rural  Property_Area_Semiurban  Property_Area_Urban  \n",
              "0                False                    False                 True  \n",
              "1                 True                    False                False  \n",
              "2                False                    False                 True  \n",
              "3                False                    False                 True  \n",
              "4                False                    False                 True  \n",
              "\n",
              "[5 rows x 631 columns]"
            ]
          },
          "execution_count": 11,
          "metadata": {},
          "output_type": "execute_result"
        }
      ],
      "source": [
        "train.head()"
      ]
    },
    {
      "cell_type": "markdown",
      "metadata": {
        "id": "tB1UHGoF_Bv1"
      },
      "source": [
        "# I defined a function which will help us to create xgboost models and perform cross validation"
      ]
    },
    {
      "cell_type": "code",
      "execution_count": 12,
      "metadata": {
        "collapsed": true,
        "id": "YGeeFoRy_Bv2"
      },
      "outputs": [],
      "source": [
        "from xgboost import XGBClassifier\n",
        "\n",
        "predictors = [x for x in train.columns if x not in [target, IDcol]]\n",
        "\n",
        "def modelfit(alg, dtrain, predictors, useTrainCV=True, cv_folds=5, early_stopping_rounds=50):\n",
        "    if useTrainCV:\n",
        "        xgb_param = alg.get_xgb_params()\n",
        "        xgtrain = xgb.DMatrix(dtrain[predictors].values, label=dtrain[target].values)\n",
        "        cvresult = xgb.cv(\n",
        "            xgb_param,\n",
        "            xgtrain,\n",
        "            num_boost_round=alg.get_params()['n_estimators'],\n",
        "            nfold=cv_folds,\n",
        "            metrics='auc',\n",
        "            early_stopping_rounds=early_stopping_rounds\n",
        "        )\n",
        "        alg.set_params(n_estimators=cvresult.shape[0])\n",
        "\n",
        "    # Fit the algorithm on the data\n",
        "    alg.fit(dtrain[predictors ], dtrain[target])\n",
        "\n",
        "    # Predict training set\n",
        "    dtrain_predictions = alg.predict(dtrain[predictors])\n",
        "    dtrain_predprob = alg.predict_proba(dtrain[predictors])[:,1]\n",
        "\n",
        "    # Print model report\n",
        "    print(\"\\nModel Report\")\n",
        "    print(\"Accuracy : %.4g\" % metrics.accuracy_score(dtrain[target], dtrain_predictions))\n",
        "    print(\"AUC Score (Train): %f\" % metrics.roc_auc_score(dtrain[target], dtrain_predprob))\n",
        "\n",
        "    # Feature importances\n",
        "    # feat_imp = pd.Series(alg.feature_importances_).sort_values(ascending=False)\n",
        "\n",
        "    # # feat_imp.plot(kind='bar', title='Feature Importances')\n",
        "    # # plt.ylabel('Feature Importance Score')\n",
        "    # # plt.show()\n",
        "\n",
        "    # Feature importances using get_fscore()\n",
        "# feat_imp = pd.Series(alg.booster().get_fscore()).sort_values(ascending=False)\n",
        "\n",
        "# # Plot top features\n",
        "# plt.figure(figsize=(10, 6))\n",
        "# feat_imp[:12].plot(kind='bar', title='Top Feature Importances')  # Show top 12 features\n",
        "# plt.ylabel('Feature Importance Score')\n",
        "# plt.xticks(rotation=45)  # Rotate x-axis labels for better readability\n",
        "# plt.tight_layout()\n",
        "# plt.show()\n",
        "\n"
      ]
    },
    {
      "cell_type": "code",
      "execution_count": 13,
      "metadata": {
        "colab": {
          "base_uri": "https://localhost:8080/"
        },
        "id": "2dJcsv-s_Bv2",
        "outputId": "889a2d57-a230-4b9c-8158-a308e65a7e8a"
      },
      "outputs": [
        {
          "name": "stdout",
          "output_type": "stream",
          "text": [
            "\n",
            "Model Report\n",
            "Accuracy : 0.956\n",
            "AUC Score (Train): 0.996149\n"
          ]
        }
      ],
      "source": [
        "predictors = [x for x in train.columns if x not in [target, IDcol]]\n",
        "\n",
        "# Initialize the model\n",
        "xgb2 = XGBClassifier(\n",
        "    learning_rate=0.1,\n",
        "    n_estimators=1000,\n",
        "    max_depth=5,\n",
        "    min_child_weight=1,\n",
        "    gamma=0,\n",
        "    subsample=0.8,\n",
        "    colsample_bytree=0.8,\n",
        "    objective='binary:logistic',\n",
        "    n_jobs=4,  # Updated from nthread\n",
        "    scale_pos_weight=1,\n",
        "    random_state=27  # Updated from seed\n",
        ")\n",
        "\n",
        "# Fit the model\n",
        "modelfit(xgb2, train, predictors)"
      ]
    },
    {
      "cell_type": "markdown",
      "metadata": {
        "id": "fsQWwrnZ_Bv2"
      },
      "source": [
        "# Parameter Tuning For XGBoost model\n",
        "Parameter tuning like learning rate, some tree specific parameters like max_depth, min_child_weight, gamma, subsample, colsample_bytree.\n",
        "Keeping all the parameters initially fixed, with the use of grid search :\n",
        "Tuning max_depth and min_child_weight\n",
        "\n",
        "max_depth - controls the max depth off each tree.\n",
        "\n",
        "min_child_weight - controls the minimum sum of instance weights required in a child node.\n"
      ]
    },
    {
      "cell_type": "markdown",
      "metadata": {
        "id": "5qP-HuQdjL2a"
      },
      "source": [
        "Broader Range:-"
      ]
    },
    {
      "cell_type": "code",
      "execution_count": 14,
      "metadata": {
        "colab": {
          "base_uri": "https://localhost:8080/"
        },
        "id": "XFGOf2ng_Bv3",
        "outputId": "9a96ac85-2ae2-44fc-9218-98cb8759f57d"
      },
      "outputs": [
        {
          "name": "stdout",
          "output_type": "stream",
          "text": [
            "Best parameters after test 1: {'max_depth': 7, 'min_child_weight': 5}\n",
            "Best AUC score after test 1: 0.7681943924668384\n"
          ]
        }
      ],
      "source": [
        "param_test1 = {\n",
        "    'max_depth': list(range(3, 10, 2)),\n",
        "    'min_child_weight': list(range(1, 6, 2))\n",
        "}\n",
        "\n",
        "# Initialize GridSearchCV without 'iid' parameter\n",
        "gsearch1 = GridSearchCV(\n",
        "    estimator=XGBClassifier(\n",
        "        learning_rate=0.1,\n",
        "        n_estimators=140,\n",
        "        max_depth=5,\n",
        "        min_child_weight=1,\n",
        "        gamma=0,\n",
        "        subsample=0.8,\n",
        "        colsample_bytree=0.8,\n",
        "        objective='binary:logistic',\n",
        "        n_jobs=4,\n",
        "        scale_pos_weight=1,\n",
        "        random_state=27  # Updated from 'seed'\n",
        "    ),\n",
        "    param_grid=param_test1,\n",
        "    scoring='roc_auc',\n",
        "    n_jobs=4,\n",
        "    cv=5\n",
        ")\n",
        "gsearch1.fit(train[predictors], train[target])\n",
        "print(\"Best parameters after test 1:\", gsearch1.best_params_)\n",
        "print(\"Best AUC score after test 1:\", gsearch1.best_score_)\n"
      ]
    },
    {
      "cell_type": "code",
      "execution_count": 15,
      "metadata": {
        "colab": {
          "base_uri": "https://localhost:8080/"
        },
        "id": "rqOCBHCl_Bv3",
        "outputId": "7a84d34e-6d05-4471-ea8c-193ee16e5a91"
      },
      "outputs": [
        {
          "name": "stdout",
          "output_type": "stream",
          "text": [
            "Best Parameters: {'max_depth': 9, 'min_child_weight': 5}\n",
            "Best AUC Score: 0.7654194687321623\n"
          ]
        }
      ],
      "source": [
        "# from sklearn.model_selection import GridSearchCV\n",
        "# from xgboost import XGBClassifier\n",
        "\n",
        "# Define the parameter grid for the second test\n",
        "param_test2 = {\n",
        "    'max_depth': [8, 9, 10],\n",
        "    'min_child_weight': [4, 5, 6]\n",
        "}\n",
        "\n",
        "# Perform GridSearch with the updated parameters\n",
        "gsearch2 = GridSearchCV(\n",
        "    estimator=XGBClassifier(\n",
        "        learning_rate=0.1,\n",
        "        n_estimators=140,\n",
        "        max_depth=5,\n",
        "        min_child_weight=2,\n",
        "        gamma=0,\n",
        "        subsample=0.8,\n",
        "        colsample_bytree=0.8,\n",
        "        objective='binary:logistic',\n",
        "        n_jobs=4,\n",
        "        scale_pos_weight=1,\n",
        "        random_state=27\n",
        "    ),\n",
        "    param_grid=param_test2,\n",
        "    scoring='roc_auc',\n",
        "    n_jobs=4,\n",
        "    cv=5\n",
        ")\n",
        "\n",
        "# Fit the model\n",
        "gsearch2.fit(train[predictors], train[target])\n",
        "\n",
        "# Access the best parameters and best score\n",
        "best_params = gsearch2.best_params_\n",
        "best_score = gsearch2.best_score_\n",
        "\n",
        "# Print the results\n",
        "print(\"Best Parameters:\", best_params)\n",
        "print(\"Best AUC Score:\", best_score)\n",
        "\n",
        "# If you want to see the full cross-validation results:\n",
        "cv_results = gsearch2.cv_results_\n",
        "\n",
        "# Print all cross-validation results\n",
        "# for mean_score, params in zip(cv_results['mean_test_score'], cv_results['params']):\n",
        "#     print(f\"Mean AUC: {mean_score:.4f} | Parameters: {params}\")\n"
      ]
    },
    {
      "cell_type": "code",
      "execution_count": 16,
      "metadata": {
        "colab": {
          "base_uri": "https://localhost:8080/",
          "height": 573
        },
        "id": "9FX6JnZgf92j",
        "outputId": "a51c2516-cb37-4066-dcf0-8f11f807bfcd"
      },
      "outputs": [
        {
          "data": {
            "image/png": "[encoded data removed]",
            "text/plain": [
              "<Figure size 1000x600 with 1 Axes>"
            ]
          },
          "metadata": {},
          "output_type": "display_data"
        }
      ],
      "source": [
        "\n",
        "# Convert cv_results to DataFrame for easier plotting\n",
        "results_df = pd.DataFrame(cv_results)\n",
        "\n",
        "# Plot mean_test_score for each parameter combination\n",
        "plt.figure(figsize=(10, 6))\n",
        "for param in param_test2:\n",
        "    plt.plot(results_df[f'param_{param}'], results_df['mean_test_score'], marker='o', linestyle='-', label=param)\n",
        "\n",
        "plt.xlabel('Parameter Value')\n",
        "plt.ylabel('Mean AUC Score')\n",
        "plt.title('Grid Search Results')\n",
        "plt.legend(loc='best')\n",
        "plt.show()\n"
      ]
    },
    {
      "cell_type": "code",
      "execution_count": 17,
      "metadata": {
        "colab": {
          "base_uri": "https://localhost:8080/"
        },
        "id": "A3QJmhbx_Bv3",
        "outputId": "ed912b5f-0aac-4bae-950c-53cd3c3c8511"
      },
      "outputs": [
        {
          "name": "stdout",
          "output_type": "stream",
          "text": [
            "Best Parameters for Test 2b: {'min_child_weight': 10}\n",
            "Best AUC Score for Test 2b: 0.768728608852448\n",
            "Mean AUC: 0.7640 | Parameters: {'min_child_weight': 6}\n",
            "Mean AUC: 0.7666 | Parameters: {'min_child_weight': 8}\n",
            "Mean AUC: 0.7687 | Parameters: {'min_child_weight': 10}\n",
            "Mean AUC: 0.7680 | Parameters: {'min_child_weight': 12}\n"
          ]
        }
      ],
      "source": [
        "param_test2b = {\n",
        "    'min_child_weight': [6, 8, 10, 12]\n",
        "}\n",
        "\n",
        "# Perform GridSearchCV\n",
        "gsearch2b = GridSearchCV(\n",
        "    estimator=XGBClassifier(\n",
        "        learning_rate=0.1,\n",
        "        n_estimators=140,\n",
        "        max_depth=8,\n",
        "        min_child_weight=2,\n",
        "        gamma=0,\n",
        "        subsample=0.8,\n",
        "        colsample_bytree=0.8,\n",
        "        objective='binary:logistic',\n",
        "        n_jobs=4,\n",
        "        scale_pos_weight=1,\n",
        "        random_state=27  # Updated seed to random_state\n",
        "    ),\n",
        "    param_grid=param_test2b,\n",
        "    scoring='roc_auc',\n",
        "    n_jobs=4,\n",
        "    cv=5\n",
        ")\n",
        "\n",
        "# Fit the model\n",
        "gsearch2b.fit(train[predictors], train[target])\n",
        "\n",
        "# Access the best parameters and best score\n",
        "best_params_2b = gsearch2b.best_params_\n",
        "best_score_2b = gsearch2b.best_score_\n",
        "\n",
        "# Print the best parameters and AUC score\n",
        "print(\"Best Parameters for Test 2b:\", best_params_2b)\n",
        "print(\"Best AUC Score for Test 2b:\", best_score_2b)\n",
        "\n",
        "# Access the full cross-validation results\n",
        "cv_results_2b = gsearch2b.cv_results_\n",
        "\n",
        "# Print cross-validation results for each parameter combination\n",
        "for mean_score, params in zip(cv_results_2b['mean_test_score'], cv_results_2b['params']):\n",
        "    print(f\"Mean AUC: {mean_score:.4f} | Parameters: {params}\")"
      ]
    },
    {
      "cell_type": "code",
      "execution_count": 18,
      "metadata": {
        "colab": {
          "base_uri": "https://localhost:8080/"
        },
        "id": "DV25JpQn_Bv3",
        "outputId": "91e73500-ee3a-4b5e-ea8a-7c98ceee35df"
      },
      "outputs": [
        {
          "name": "stdout",
          "output_type": "stream",
          "text": [
            "Best Parameters for Test 2c: {'min_child_weight': 7}\n",
            "Best AUC Score for Test 2c: 0.7678773101683318\n",
            "Mean AUC: 0.7640 | Parameters: {'min_child_weight': 6}\n",
            "Mean AUC: 0.7679 | Parameters: {'min_child_weight': 7}\n"
          ]
        }
      ],
      "source": [
        "param_test2c = {\n",
        "    'min_child_weight': [6, 7]\n",
        "}\n",
        "\n",
        "# Perform GridSearchCV with the correct parameter grid\n",
        "gsearch2c = GridSearchCV(\n",
        "    estimator=XGBClassifier(\n",
        "        learning_rate=0.1,\n",
        "        n_estimators=140,\n",
        "        max_depth=8,\n",
        "        min_child_weight=2,\n",
        "        gamma=0,\n",
        "        subsample=0.8,\n",
        "        colsample_bytree=0.8,\n",
        "        objective='binary:logistic',\n",
        "        n_jobs=4,  # Updated from nthread\n",
        "        scale_pos_weight=1,\n",
        "        random_state=27  # Updated from seed\n",
        "    ),\n",
        "    param_grid=param_test2c,\n",
        "    scoring='roc_auc',\n",
        "    n_jobs=4,\n",
        "    cv=5\n",
        ")\n",
        "\n",
        "# Fit the model\n",
        "gsearch2c.fit(train[predictors], train[target])\n",
        "\n",
        "# Access the best parameters and best score\n",
        "best_params_2c = gsearch2c.best_params_\n",
        "best_score_2c = gsearch2c.best_score_\n",
        "\n",
        "# Print the best parameters and AUC score\n",
        "print(\"Best Parameters for Test 2c:\", best_params_2c)\n",
        "print(\"Best AUC Score for Test 2c:\", best_score_2c)\n",
        "\n",
        "# Access the full cross-validation results\n",
        "cv_results_2c = gsearch2c.cv_results_\n",
        "\n",
        "# Print cross-validation results for each parameter combination\n",
        "for mean_score, params in zip(cv_results_2c['mean_test_score'], cv_results_2c['params']):\n",
        "    print(f\"Mean AUC: {mean_score:.4f} | Parameters: {params}\")"
      ]
    },
    {
      "cell_type": "code",
      "execution_count": 19,
      "metadata": {
        "colab": {
          "base_uri": "https://localhost:8080/"
        },
        "id": "QJWlcPtAkaIg",
        "outputId": "bb7fe834-3c9c-488a-ddad-452d623faba7"
      },
      "outputs": [],
      "source": [
        "# # Print the best parameters found by GridSearchCV\n",
        "# print(\"Best Parameters:\", gsearch2c.best_params_)\n"
      ]
    },
    {
      "cell_type": "markdown",
      "metadata": {
        "id": "okAcSjHu_Bv4"
      },
      "source": [
        "# Tuning Gamma"
      ]
    },
    {
      "cell_type": "code",
      "execution_count": 20,
      "metadata": {
        "colab": {
          "base_uri": "https://localhost:8080/"
        },
        "id": "pT6Wpe8-_Bv4",
        "outputId": "92040321-5726-4fc5-fb38-7180adeb193f"
      },
      "outputs": [
        {
          "name": "stdout",
          "output_type": "stream",
          "text": [
            "Best Parameters for Test 3: {'gamma': 0.1}\n",
            "Best AUC Score for Test 3: 0.7680595909078881\n",
            "Mean AUC: 0.7640 | Parameters: {'gamma': 0.0}\n",
            "Mean AUC: 0.7681 | Parameters: {'gamma': 0.1}\n",
            "Mean AUC: 0.7657 | Parameters: {'gamma': 0.2}\n",
            "Mean AUC: 0.7651 | Parameters: {'gamma': 0.3}\n",
            "Mean AUC: 0.7653 | Parameters: {'gamma': 0.4}\n"
          ]
        }
      ],
      "source": [
        "param_test3 = {\n",
        "    'gamma': [i / 10.0 for i in range(0, 5)]\n",
        "}\n",
        "\n",
        "# Perform GridSearchCV with the correct parameter grid\n",
        "gsearch3 = GridSearchCV(\n",
        "    estimator=XGBClassifier(\n",
        "        learning_rate=0.1,\n",
        "        n_estimators=140,\n",
        "        max_depth=8,\n",
        "        min_child_weight=6,\n",
        "        gamma=0,\n",
        "        subsample=0.8,\n",
        "        colsample_bytree=0.8,\n",
        "        objective='binary:logistic',\n",
        "        n_jobs=4,  # Updated from nthread\n",
        "        scale_pos_weight=1,\n",
        "        random_state=27  # Updated from seed\n",
        "    ),\n",
        "    param_grid=param_test3,\n",
        "    scoring='roc_auc',\n",
        "    n_jobs=4,\n",
        "    cv=5\n",
        ")\n",
        "\n",
        "# Fit the model\n",
        "gsearch3.fit(train[predictors], train[target])\n",
        "\n",
        "# Access the best parameters and best score\n",
        "best_params_3 = gsearch3.best_params_\n",
        "best_score_3 = gsearch3.best_score_\n",
        "\n",
        "# Print the best parameters and AUC score\n",
        "print(\"Best Parameters for Test 3:\", best_params_3)\n",
        "print(\"Best AUC Score for Test 3:\", best_score_3)\n",
        "\n",
        "# Access the full cross-validation results\n",
        "cv_results_3 = gsearch3.cv_results_\n",
        "\n",
        "# Print cross-validation results for each parameter combination\n",
        "for mean_score, params in zip(cv_results_3['mean_test_score'], cv_results_3['params']):\n",
        "    print(f\"Mean AUC: {mean_score:.4f} | Parameters: {params}\")"
      ]
    },
    {
      "cell_type": "markdown",
      "metadata": {
        "id": "myW6ZbLHmeOh"
      },
      "source": [
        "# Training results after Tuning:-"
      ]
    },
    {
      "cell_type": "code",
      "execution_count": 21,
      "metadata": {
        "colab": {
          "base_uri": "https://localhost:8080/"
        },
        "id": "AZVeXATE_Bv4",
        "outputId": "8c1b67be-b48e-46b3-f9f0-bea700cb32fa"
      },
      "outputs": [
        {
          "name": "stdout",
          "output_type": "stream",
          "text": [
            "\n",
            "Model Report\n",
            "Accuracy : 0.8306\n",
            "AUC Score (Train): 0.930366\n"
          ]
        }
      ],
      "source": [
        "predictors = [x for x in train.columns if x not in [target, IDcol]]\n",
        "xgb2 = XGBClassifier(learning_rate =0.1, n_estimators=1000, max_depth=8, min_child_weight=6, gamma=0.1, subsample=0.9,\n",
        "                     colsample_bytree=0.95,reg_alpha=2, objective= 'binary:logistic', nthread=4, scale_pos_weight=1, seed=27)\n",
        "modelfit(xgb2, train, predictors)"
      ]
    },
    {
      "cell_type": "markdown",
      "metadata": {
        "id": "i2oY_BBO_Bv4"
      },
      "source": [
        "# Tuning subsample and colsample_bytree"
      ]
    },
    {
      "cell_type": "markdown",
      "metadata": {
        "id": "aj06vrGonNwm"
      },
      "source": [
        "**subsample:**This specifies the fraction of the training samples used for growing each tree. Setting this less than 1 may help in avoiding overfitting.\n",
        "\n",
        "**colsample_bytree:** This specifies the fraction of features (columns) used in each tree. A smaller value can help prevent overfitting but might reduce the strength of individual trees."
      ]
    },
    {
      "cell_type": "code",
      "execution_count": 22,
      "metadata": {
        "colab": {
          "base_uri": "https://localhost:8080/"
        },
        "id": "7897PadH_Bv4",
        "outputId": "9fb52190-e805-4fb4-db0c-682756ffcaf2"
      },
      "outputs": [
        {
          "name": "stdout",
          "output_type": "stream",
          "text": [
            "Best Parameters for Test 4: {'colsample_bytree': 0.8, 'subsample': 0.9}\n",
            "Best AUC Score for Test 4: 0.7714925700374616\n",
            "Mean AUC: 0.7675 | Parameters: {'colsample_bytree': 0.6, 'subsample': 0.6}\n",
            "Mean AUC: 0.7589 | Parameters: {'colsample_bytree': 0.6, 'subsample': 0.7}\n",
            "Mean AUC: 0.7634 | Parameters: {'colsample_bytree': 0.6, 'subsample': 0.8}\n",
            "Mean AUC: 0.7588 | Parameters: {'colsample_bytree': 0.6, 'subsample': 0.9}\n",
            "Mean AUC: 0.7631 | Parameters: {'colsample_bytree': 0.7, 'subsample': 0.6}\n",
            "Mean AUC: 0.7649 | Parameters: {'colsample_bytree': 0.7, 'subsample': 0.7}\n",
            "Mean AUC: 0.7614 | Parameters: {'colsample_bytree': 0.7, 'subsample': 0.8}\n",
            "Mean AUC: 0.7678 | Parameters: {'colsample_bytree': 0.7, 'subsample': 0.9}\n",
            "Mean AUC: 0.7625 | Parameters: {'colsample_bytree': 0.8, 'subsample': 0.6}\n",
            "Mean AUC: 0.7654 | Parameters: {'colsample_bytree': 0.8, 'subsample': 0.7}\n",
            "Mean AUC: 0.7641 | Parameters: {'colsample_bytree': 0.8, 'subsample': 0.8}\n",
            "Mean AUC: 0.7715 | Parameters: {'colsample_bytree': 0.8, 'subsample': 0.9}\n",
            "Mean AUC: 0.7651 | Parameters: {'colsample_bytree': 0.9, 'subsample': 0.6}\n",
            "Mean AUC: 0.7654 | Parameters: {'colsample_bytree': 0.9, 'subsample': 0.7}\n",
            "Mean AUC: 0.7640 | Parameters: {'colsample_bytree': 0.9, 'subsample': 0.8}\n",
            "Mean AUC: 0.7676 | Parameters: {'colsample_bytree': 0.9, 'subsample': 0.9}\n"
          ]
        }
      ],
      "source": [
        "param_test4 = {\n",
        "    'subsample': [i / 10.0 for i in range(6, 10)],\n",
        "    'colsample_bytree': [i / 10.0 for i in range(6, 10)]\n",
        "}\n",
        "\n",
        "# Initialize GridSearchCV\n",
        "gsearch4 = GridSearchCV(\n",
        "    estimator=XGBClassifier(\n",
        "        learning_rate=0.1,\n",
        "        n_estimators=177,\n",
        "        max_depth=8,\n",
        "        min_child_weight=6,\n",
        "        gamma=0,\n",
        "        subsample=0.8,\n",
        "        colsample_bytree=0.8,\n",
        "        objective='binary:logistic',\n",
        "        n_jobs=4,  # Updated from nthread\n",
        "        scale_pos_weight=1,\n",
        "        random_state=27  # Updated from seed\n",
        "    ),\n",
        "    param_grid=param_test4,\n",
        "    scoring='roc_auc',\n",
        "    n_jobs=4,\n",
        "    cv=5\n",
        ")\n",
        "\n",
        "# Fit the model\n",
        "gsearch4.fit(train[predictors], train[target])\n",
        "\n",
        "# Get the best parameters and best score\n",
        "best_params_4 = gsearch4.best_params_\n",
        "best_score_4 = gsearch4.best_score_\n",
        "\n",
        "# Print the best parameters and AUC score\n",
        "print(\"Best Parameters for Test 4:\", best_params_4)\n",
        "print(\"Best AUC Score for Test 4:\", best_score_4)\n",
        "\n",
        "# Access the full cross-validation results\n",
        "cv_results_4 = gsearch4.cv_results_\n",
        "\n",
        "# Print cross-validation results for each parameter combination\n",
        "for mean_score, params in zip(cv_results_4['mean_test_score'], cv_results_4['params']):\n",
        "    print(f\"Mean AUC: {mean_score:.4f} | Parameters: {params}\")"
      ]
    },
    {
      "cell_type": "code",
      "execution_count": 23,
      "metadata": {
        "colab": {
          "base_uri": "https://localhost:8080/"
        },
        "id": "htViEQrc_Bv5",
        "outputId": "29d7bc3f-a3f7-4f49-d6e8-2f73ea24f1e9"
      },
      "outputs": [
        {
          "name": "stdout",
          "output_type": "stream",
          "text": [
            "Best Parameters for Test 4a: {'colsample_bytree': 0.9, 'subsample': 0.9}\n",
            "Best AUC Score for Test 4a: 0.7698193825438407\n",
            "Mean AUC: 0.7643 | Parameters: {'colsample_bytree': 0.7, 'subsample': 0.7}\n",
            "Mean AUC: 0.7591 | Parameters: {'colsample_bytree': 0.7, 'subsample': 0.8}\n",
            "Mean AUC: 0.7687 | Parameters: {'colsample_bytree': 0.7, 'subsample': 0.9}\n",
            "Mean AUC: 0.7619 | Parameters: {'colsample_bytree': 0.8, 'subsample': 0.7}\n",
            "Mean AUC: 0.7644 | Parameters: {'colsample_bytree': 0.8, 'subsample': 0.8}\n",
            "Mean AUC: 0.7642 | Parameters: {'colsample_bytree': 0.8, 'subsample': 0.9}\n",
            "Mean AUC: 0.7673 | Parameters: {'colsample_bytree': 0.9, 'subsample': 0.7}\n",
            "Mean AUC: 0.7623 | Parameters: {'colsample_bytree': 0.9, 'subsample': 0.8}\n",
            "Mean AUC: 0.7698 | Parameters: {'colsample_bytree': 0.9, 'subsample': 0.9}\n"
          ]
        }
      ],
      "source": [
        "# param_test4a = {\n",
        "#     'subsample': [i / 10.0 for i in range(9, 12)],\n",
        "#     'colsample_bytree': [i / 10.0 for i in range(9, 12)]\n",
        "# }\n",
        "param_test4a = {\n",
        "    'subsample': [0.7, 0.8, 0.9],\n",
        "    'colsample_bytree': [0.7, 0.8, 0.9]\n",
        "}\n",
        "\n",
        "# Initialize GridSearchCV\n",
        "gsearch4a = GridSearchCV(\n",
        "    estimator=XGBClassifier(\n",
        "        learning_rate=0.1,\n",
        "        n_estimators=177,\n",
        "        max_depth=8,\n",
        "        min_child_weight=6,\n",
        "        gamma=0.1,\n",
        "        subsample=0.8,\n",
        "        colsample_bytree=0.8,\n",
        "        objective='binary:logistic',\n",
        "        n_jobs=4,  # Updated from nthread\n",
        "        scale_pos_weight=1,\n",
        "        random_state=27  # Updated from seed\n",
        "    ),\n",
        "    param_grid=param_test4a,\n",
        "    scoring='roc_auc',\n",
        "    n_jobs=4,\n",
        "    cv=5\n",
        ")\n",
        "\n",
        "# Fit the model\n",
        "gsearch4a.fit(train[predictors], train[target])\n",
        "\n",
        "# Get the best parameters and best score\n",
        "best_params_4a = gsearch4a.best_params_\n",
        "best_score_4a = gsearch4a.best_score_\n",
        "\n",
        "# Print the best parameters and AUC score\n",
        "print(\"Best Parameters for Test 4a:\", best_params_4a)\n",
        "print(\"Best AUC Score for Test 4a:\", best_score_4a)\n",
        "\n",
        "# Access the full cross-validation results\n",
        "cv_results_4a = gsearch4a.cv_results_\n",
        "\n",
        "# Print cross-validation results for each parameter combination\n",
        "for mean_score, params in zip(cv_results_4a['mean_test_score'], cv_results_4a['params']):\n",
        "    print(f\"Mean AUC: {mean_score:.4f} | Parameters: {params}\")"
      ]
    },
    {
      "cell_type": "code",
      "execution_count": 24,
      "metadata": {
        "colab": {
          "base_uri": "https://localhost:8080/"
        },
        "id": "83yEAlxo_Bv5",
        "outputId": "f5563940-5aae-43b2-dddb-71578bf2bb3a"
      },
      "outputs": [
        {
          "name": "stdout",
          "output_type": "stream",
          "text": [
            "Best Parameters for Test 5: {'colsample_bytree': 1.0, 'subsample': 1.0}\n",
            "Best AUC Score for Test 5: 0.7791357163648185\n"
          ]
        }
      ],
      "source": [
        "param_test5 = {\n",
        "    'subsample': [i/100.0 for i in range(90, 101, 5)],  # e.g., [0.90, 0.95, 1.00]\n",
        "    'colsample_bytree': [i/100.0 for i in range(90, 101, 5)]  # e.g., [0.90, 0.95, 1.00]\n",
        "}\n",
        "\n",
        "# Initialize GridSearchCV with the updated parameters\n",
        "gsearch5 = GridSearchCV(\n",
        "    estimator=XGBClassifier(\n",
        "        learning_rate=0.1,\n",
        "        n_estimators=177,\n",
        "        max_depth=8,\n",
        "        min_child_weight=6,\n",
        "        gamma=0.1,\n",
        "        objective='binary:logistic',\n",
        "        n_jobs=4,\n",
        "        scale_pos_weight=1,\n",
        "        random_state=27\n",
        "    ),\n",
        "    param_grid=param_test5,\n",
        "    scoring='roc_auc',\n",
        "    n_jobs=4,\n",
        "    cv=5\n",
        ")\n",
        "\n",
        "# Fit the model\n",
        "gsearch5.fit(train[predictors], train[target])\n",
        "\n",
        "# Retrieve results\n",
        "print(\"Best Parameters for Test 5:\", gsearch5.best_params_)\n",
        "print(\"Best AUC Score for Test 5:\", gsearch5.best_score_)"
      ]
    },
    {
      "cell_type": "markdown",
      "metadata": {
        "id": "sjCFPF1v_Bv5"
      },
      "source": [
        "# Tuning reg_alpha"
      ]
    },
    {
      "cell_type": "code",
      "execution_count": 25,
      "metadata": {
        "colab": {
          "base_uri": "https://localhost:8080/"
        },
        "id": "MYbh5ZIh_Bv5",
        "outputId": "775ca5ef-daa5-416d-fb51-31436f4020ac"
      },
      "outputs": [
        {
          "name": "stdout",
          "output_type": "stream",
          "text": [
            "Best Parameters: {'reg_alpha': 0.1}\n",
            "Best AUC Score: 0.7753521246555303\n",
            "                 params  mean_test_score  std_test_score\n",
            "0  {'reg_alpha': 1e-05}         0.774671        0.041642\n",
            "1   {'reg_alpha': 0.01}         0.772997        0.038505\n",
            "2    {'reg_alpha': 0.1}         0.775352        0.043076\n",
            "3      {'reg_alpha': 1}         0.775236        0.039742\n",
            "4    {'reg_alpha': 100}         0.500000        0.000000\n"
          ]
        }
      ],
      "source": [
        "param_test6 = {\n",
        "    'reg_alpha': [1e-5, 1e-2, 0.1, 1, 100]\n",
        "}\n",
        "\n",
        "# Create the GridSearchCV object\n",
        "gsearch6 = GridSearchCV(estimator = XGBClassifier(\n",
        "    learning_rate=0.1,\n",
        "    n_estimators=177,\n",
        "    max_depth=8,\n",
        "    min_child_weight=6,\n",
        "    gamma=0.1,\n",
        "    subsample=0.95,\n",
        "    colsample_bytree=0.95,\n",
        "    objective='binary:logistic',\n",
        "    n_jobs=4,\n",
        "    scale_pos_weight=1,\n",
        "    seed=27\n",
        "),\n",
        "param_grid = param_test6,\n",
        "scoring='roc_auc',\n",
        "n_jobs=4,\n",
        "cv=5)\n",
        "\n",
        "# Fit the GridSearchCV object\n",
        "gsearch6.fit(train[predictors], train[target])\n",
        "\n",
        "# Retrieve detailed results from the grid search\n",
        "cv_results = gsearch6.cv_results_\n",
        "\n",
        "# Best parameters\n",
        "best_params = gsearch6.best_params_\n",
        "\n",
        "# Best score\n",
        "best_score = gsearch6.best_score_\n",
        "\n",
        "# Print the best parameters and best score\n",
        "print(\"Best Parameters:\", best_params)\n",
        "print(\"Best AUC Score:\", best_score)\n",
        "\n",
        "# Print detailed results\n",
        "# import pandas as pd\n",
        "results_df = pd.DataFrame(cv_results)\n",
        "print(results_df[['params', 'mean_test_score', 'std_test_score']])"
      ]
    },
    {
      "cell_type": "code",
      "execution_count": 26,
      "metadata": {
        "colab": {
          "base_uri": "https://localhost:8080/"
        },
        "collapsed": true,
        "id": "MUxESKGt_Bv5",
        "outputId": "0f7fb7b7-2b2c-4475-8f37-ebd7877c6d92"
      },
      "outputs": [
        {
          "name": "stdout",
          "output_type": "stream",
          "text": [
            "Best Parameters: {'reg_alpha': 1}\n",
            "Best AUC Score: 0.7752358649262674\n",
            "             params  mean_test_score  std_test_score\n",
            "0  {'reg_alpha': 1}         0.775236        0.039742\n",
            "1  {'reg_alpha': 2}         0.772216        0.037832\n",
            "2  {'reg_alpha': 3}         0.761564        0.036926\n",
            "3  {'reg_alpha': 4}         0.751297        0.038235\n",
            "4  {'reg_alpha': 5}         0.744580        0.041223\n"
          ]
        }
      ],
      "source": [
        "param_test6a = {\n",
        "    'reg_alpha': [1, 2, 3, 4, 5]\n",
        "}\n",
        "\n",
        "# Create the GridSearchCV object\n",
        "gsearch6a = GridSearchCV(estimator = XGBClassifier(\n",
        "    learning_rate=0.1,\n",
        "    n_estimators=177,\n",
        "    max_depth=8,\n",
        "    min_child_weight=6,\n",
        "    gamma=0.1,\n",
        "    subsample=0.95,\n",
        "    colsample_bytree=0.95,\n",
        "    objective='binary:logistic',\n",
        "    n_jobs=4,\n",
        "    scale_pos_weight=1,\n",
        "    seed=27\n",
        "),\n",
        "param_grid = param_test6a,\n",
        "scoring='roc_auc',\n",
        "n_jobs=4,\n",
        "cv=5)\n",
        "\n",
        "# Fit the GridSearchCV object\n",
        "gsearch6a.fit(train[predictors], train[target])\n",
        "\n",
        "# Retrieve detailed results from the grid search\n",
        "cv_results = gsearch6a.cv_results_\n",
        "\n",
        "# Best parameters\n",
        "best_params = gsearch6a.best_params_\n",
        "\n",
        "# Best score\n",
        "best_score = gsearch6a.best_score_\n",
        "\n",
        "# Print the best parameters and best score\n",
        "print(\"Best Parameters:\", best_params)\n",
        "print(\"Best AUC Score:\", best_score)\n",
        "\n",
        "# Print detailed results\n",
        "results_df = pd.DataFrame(cv_results)\n",
        "print(results_df[['params', 'mean_test_score', 'std_test_score']])"
      ]
    },
    {
      "cell_type": "code",
      "execution_count": 27,
      "metadata": {
        "colab": {
          "base_uri": "https://localhost:8080/"
        },
        "collapsed": true,
        "id": "2puMTnCr_Bv5",
        "outputId": "38f72331-4505-480d-d567-cd8b5e1e56ef"
      },
      "outputs": [
        {
          "name": "stdout",
          "output_type": "stream",
          "text": [
            "\n",
            "Model Report\n",
            "Accuracy : 0.8518\n",
            "AUC Score (Train): 0.941122\n"
          ]
        }
      ],
      "source": [
        "\n",
        "xgb3 = XGBClassifier(learning_rate =0.1, n_estimators=1000, max_depth=8, min_child_weight=6, gamma=0.1, subsample=0.95,\n",
        "                     colsample_bytree=0.95, reg_alpha=2, objective= 'binary:logistic', nthread=4, scale_pos_weight=1, seed=27)\n",
        "modelfit(xgb3, train, predictors)"
      ]
    },
    {
      "cell_type": "markdown",
      "metadata": {
        "id": "n1juJI0B_Bv6"
      },
      "source": [
        "Features on larger scales can unduly influence the model. We want features on a similar scale. Scikit's preprocessing provides us with StandardScaler package to scale our data."
      ]
    },
    {
      "cell_type": "code",
      "execution_count": 28,
      "metadata": {
        "collapsed": true,
        "id": "pI4EFYG1_Bv6"
      },
      "outputs": [],
      "source": [
        "from sklearn.preprocessing import StandardScaler\n",
        "from sklearn.model_selection import train_test_split\n",
        "# slc= StandardScaler()\n",
        "# X_train_std = slc.fit_transform(X)\n",
        "# Assume X and y are your feature and target variables\n",
        "X_train, X_test, y_train, y_test = train_test_split(X, y, test_size=0.2, random_state=42)\n",
        "\n",
        "# Initialize the scaler\n",
        "scaler = StandardScaler()\n",
        "\n",
        "# Fit the scaler on the training data and transform it\n",
        "X_train_std = scaler.fit_transform(X_train)\n",
        "\n",
        "# Transform the test data using the fitted scaler\n",
        "X_test_std = scaler.transform(X_test)\n",
        "\n"
      ]
    },
    {
      "cell_type": "markdown",
      "metadata": {
        "id": "JlFHtxPH_Bv6"
      },
      "source": [
        "# Applying machine learning models\n",
        " Using RandomForestClassifier with the parameters"
      ]
    },
    {
      "cell_type": "code",
      "execution_count": 29,
      "metadata": {
        "colab": {
          "base_uri": "https://localhost:8080/"
        },
        "collapsed": true,
        "id": "sBaOPBsR_Bv6",
        "outputId": "a096ae74-c136-4bee-83f4-cee30abf6d0d"
      },
      "outputs": [
        {
          "name": "stdout",
          "output_type": "stream",
          "text": [
            "Accuracy: 0.7805\n",
            "AUC Score: 0.7510\n",
            "OOB Score: 0.7984\n"
          ]
        }
      ],
      "source": [
        "from sklearn.ensemble import RandomForestClassifier\n",
        "from sklearn.ensemble import RandomForestClassifier\n",
        "from sklearn.metrics import accuracy_score, roc_auc_score\n",
        "forest = RandomForestClassifier(n_estimators =400, criterion='entropy', oob_score=True, random_state=1,n_jobs=-1)\n",
        "# Fit the model on the training data\n",
        "forest.fit(X_train_std, y_train)\n",
        "\n",
        "# Predict on the test data\n",
        "y_pred = forest.predict(X_test_std)\n",
        "\n",
        "# Evaluate the model\n",
        "accuracy = accuracy_score(y_test, y_pred)\n",
        "roc_auc = roc_auc_score(y_test, forest.predict_proba(X_test_std)[:, 1])\n",
        "\n",
        "# Print the evaluation metrics\n",
        "print(f\"Accuracy: {accuracy:.4f}\")\n",
        "print(f\"AUC Score: {roc_auc:.4f}\")\n",
        "\n",
        "# Print the OOB score\n",
        "print(f\"OOB Score: {forest.oob_score_:.4f}\")"
      ]
    },
    {
      "cell_type": "markdown",
      "metadata": {
        "id": "eiOJ7wfM_Bv6"
      },
      "source": [
        "Using the above function of different XGBoost models and with grid search-cross validation, I found the effective value of each of the parameters"
      ]
    },
    {
      "cell_type": "code",
      "execution_count": 30,
      "metadata": {
        "id": "j9QDXzYg_Bv7"
      },
      "outputs": [],
      "source": [
        "from xgboost.sklearn import XGBClassifier\n",
        "#xgb1 = XGBClassifier(learning_rate =0.1, n_estimators=1000, max_depth=8, min_child_weight=6, gamma=0.1, subsample=0.95,\n",
        "                     #colsample_bytree=0.95, reg_alpha=2, objective= 'binary:logistic', nthread=4, scale_pos_weight=1, seed=27)\n",
        "xgb1=XGBClassifier(learning_rate =0.1, n_estimators=1000, max_depth=8, min_child_weight=6, gamma=0.1, subsample=0.9,\n",
        "                     colsample_bytree=0.95,reg_alpha=2, objective= 'binary:logistic', nthread=4, scale_pos_weight=1, seed=27)\n",
        "\n",
        "xgb1.fit(X_train_std, y_train)\n",
        "\n",
        "# Predict on the test data\n",
        "y_pred = xgb1.predict(X_test_std)\n",
        "\n",
        "# Predict probabilities for AUC score calculation\n",
        "y_pred_proba = xgb1.predict_proba(X_test_std)[:, 1]\n"
      ]
    },
    {
      "cell_type": "code",
      "execution_count": 31,
      "metadata": {
        "colab": {
          "base_uri": "https://localhost:8080/"
        },
        "id": "Nh_9GDSYrzc6",
        "outputId": "bbc99f98-aac9-4a9d-8ed9-93340aa40b82"
      },
      "outputs": [
        {
          "name": "stdout",
          "output_type": "stream",
          "text": [
            "Accuracy: 0.7480\n",
            "AUC Score: 0.7439\n"
          ]
        }
      ],
      "source": [
        "accuracy = accuracy_score(y_test, y_pred)\n",
        "roc_auc = roc_auc_score(y_test, y_pred_proba)\n",
        "\n",
        "# Print the evaluation metrics\n",
        "print(f\"Accuracy: {accuracy:.4f}\")\n",
        "print(f\"AUC Score: {roc_auc:.4f}\")"
      ]
    },
    {
      "cell_type": "code",
      "execution_count": 32,
      "metadata": {
        "colab": {
          "base_uri": "https://localhost:8080/"
        },
        "collapsed": true,
        "id": "1ZJtXsQm_Bv7",
        "outputId": "4fbef9e2-7bc6-42a3-f200-81711a3000c3"
      },
      "outputs": [
        {
          "name": "stderr",
          "output_type": "stream",
          "text": [
            "C:\\Users\\Aayush\\AppData\\Roaming\\Python\\Python312\\site-packages\\sklearn\\ensemble\\_weight_boosting.py:519: FutureWarning: The SAMME.R algorithm (the default) is deprecated and will be removed in 1.6. Use the SAMME algorithm to circumvent this warning.\n",
            "  warnings.warn(\n"
          ]
        },
        {
          "name": "stdout",
          "output_type": "stream",
          "text": [
            "AdaBoost Accuracy: 0.7805\n",
            "AdaBoost AUC Score: 0.6910\n"
          ]
        }
      ],
      "source": [
        "from sklearn.ensemble import AdaBoostClassifier\n",
        "from sklearn.tree import DecisionTreeClassifier\n",
        "\n",
        "tree = DecisionTreeClassifier(criterion='entropy',max_depth=1)\n",
        "ada = AdaBoostClassifier(estimator=tree, n_estimators=500, learning_rate=0.1, random_state=0)\n",
        "\n",
        "# Fit the AdaBoost model on the training data\n",
        "ada.fit(X_train_std, y_train)\n",
        "# Predict on the test data\n",
        "y_pred_ada = ada.predict(X_test_std)\n",
        "\n",
        "# Predict probabilities for AUC score calculation\n",
        "y_pred_proba_ada = ada.predict_proba(X_test_std)[:, 1]\n",
        "\n",
        "accuracy_ada = accuracy_score(y_test, y_pred_ada)\n",
        "roc_auc_ada = roc_auc_score(y_test, y_pred_proba_ada)\n",
        "\n",
        "# Print the evaluation metrics\n",
        "print(f\"AdaBoost Accuracy: {accuracy_ada:.4f}\")\n",
        "print(f\"AdaBoost AUC Score: {roc_auc_ada:.4f}\")"
      ]
    },
    {
      "cell_type": "markdown",
      "metadata": {
        "id": "htiSULsr_Bv7"
      },
      "source": [
        "# Voting Classifier\n",
        "I used VotingClassifier which will fit clones of those original estimators."
      ]
    },
    {
      "cell_type": "code",
      "execution_count": 33,
      "metadata": {
        "collapsed": true,
        "id": "6j2rLBw4_Bv7"
      },
      "outputs": [],
      "source": [
        "from sklearn.ensemble import VotingClassifier\n",
        "\n",
        "eclf = VotingClassifier(estimators=[('forest', forest), ('xgb', xgb1), ('adaboost', ada)], voting='soft')"
      ]
    },
    {
      "cell_type": "code",
      "execution_count": 34,
      "metadata": {
        "colab": {
          "base_uri": "https://localhost:8080/"
        },
        "id": "0kd0bi2n_Bv8",
        "outputId": "4426ad1e-6a4e-41c3-c72e-e8fd6a7c20b7"
      },
      "outputs": [
        {
          "name": "stderr",
          "output_type": "stream",
          "text": [
            "C:\\Users\\Aayush\\AppData\\Roaming\\Python\\Python312\\site-packages\\sklearn\\ensemble\\_weight_boosting.py:519: FutureWarning: The SAMME.R algorithm (the default) is deprecated and will be removed in 1.6. Use the SAMME algorithm to circumvent this warning.\n",
            "  warnings.warn(\n"
          ]
        },
        {
          "name": "stdout",
          "output_type": "stream",
          "text": [
            "Voting Classifier Accuracy: 0.7886\n",
            "Voting Classifier AUC Score: 0.7410\n"
          ]
        }
      ],
      "source": [
        "eclf.fit(X_train_std, y_train)\n",
        "y_pred_voting = eclf.predict(X_test_std)\n",
        "\n",
        "# Evaluate the model\n",
        "accuracy_voting = accuracy_score(y_test, y_pred_voting)\n",
        "roc_auc_voting = roc_auc_score(y_test, eclf.predict_proba(X_test_std)[:, 1])\n",
        "\n",
        "# Print the evaluation metrics\n",
        "print(f\"Voting Classifier Accuracy: {accuracy_voting:.4f}\")\n",
        "print(f\"Voting Classifier AUC Score: {roc_auc_voting:.4f}\")"
      ]
    },
    {
      "cell_type": "code",
      "execution_count": 35,
      "metadata": {
        "collapsed": true,
        "id": "XvgkaLPK_Bv8"
      },
      "outputs": [],
      "source": [
        "dtest = pd.read_csv('data/test_Y3wMUE5_7gLdaTN.csv')"
      ]
    },
    {
      "cell_type": "markdown",
      "metadata": {
        "id": "wkR141ph_Bv8"
      },
      "source": [
        "# Similar approach is done on the competition given test data."
      ]
    },
    {
      "cell_type": "code",
      "execution_count": 36,
      "metadata": {
        "colab": {
          "base_uri": "https://localhost:8080/",
          "height": 473
        },
        "id": "t6IDnI9_lPwv",
        "outputId": "cefb5f18-bb02-4a5f-bd8b-20198bd24f16"
      },
      "outputs": [
        {
          "data": {
            "text/html": [
              "<div>\n",
              "<style scoped>\n",
              "    .dataframe tbody tr th:only-of-type {\n",
              "        vertical-align: middle;\n",
              "    }\n",
              "\n",
              "    .dataframe tbody tr th {\n",
              "        vertical-align: top;\n",
              "    }\n",
              "\n",
              "    .dataframe thead th {\n",
              "        text-align: right;\n",
              "    }\n",
              "</style>\n",
              "<table border=\"1\" class=\"dataframe\">\n",
              "  <thead>\n",
              "    <tr style=\"text-align: right;\">\n",
              "      <th></th>\n",
              "      <th>Loan_ID</th>\n",
              "      <th>Gender</th>\n",
              "      <th>Married</th>\n",
              "      <th>Dependents</th>\n",
              "      <th>Education</th>\n",
              "      <th>Self_Employed</th>\n",
              "      <th>ApplicantIncome</th>\n",
              "      <th>CoapplicantIncome</th>\n",
              "      <th>LoanAmount</th>\n",
              "      <th>Loan_Amount_Term</th>\n",
              "      <th>Credit_History</th>\n",
              "      <th>Property_Area</th>\n",
              "    </tr>\n",
              "  </thead>\n",
              "  <tbody>\n",
              "    <tr>\n",
              "      <th>0</th>\n",
              "      <td>LP001015</td>\n",
              "      <td>Male</td>\n",
              "      <td>Yes</td>\n",
              "      <td>0</td>\n",
              "      <td>Graduate</td>\n",
              "      <td>No</td>\n",
              "      <td>5720</td>\n",
              "      <td>0</td>\n",
              "      <td>110.0</td>\n",
              "      <td>360.0</td>\n",
              "      <td>1.0</td>\n",
              "      <td>Urban</td>\n",
              "    </tr>\n",
              "    <tr>\n",
              "      <th>1</th>\n",
              "      <td>LP001022</td>\n",
              "      <td>Male</td>\n",
              "      <td>Yes</td>\n",
              "      <td>1</td>\n",
              "      <td>Graduate</td>\n",
              "      <td>No</td>\n",
              "      <td>3076</td>\n",
              "      <td>1500</td>\n",
              "      <td>126.0</td>\n",
              "      <td>360.0</td>\n",
              "      <td>1.0</td>\n",
              "      <td>Urban</td>\n",
              "    </tr>\n",
              "    <tr>\n",
              "      <th>2</th>\n",
              "      <td>LP001031</td>\n",
              "      <td>Male</td>\n",
              "      <td>Yes</td>\n",
              "      <td>2</td>\n",
              "      <td>Graduate</td>\n",
              "      <td>No</td>\n",
              "      <td>5000</td>\n",
              "      <td>1800</td>\n",
              "      <td>208.0</td>\n",
              "      <td>360.0</td>\n",
              "      <td>1.0</td>\n",
              "      <td>Urban</td>\n",
              "    </tr>\n",
              "    <tr>\n",
              "      <th>3</th>\n",
              "      <td>LP001035</td>\n",
              "      <td>Male</td>\n",
              "      <td>Yes</td>\n",
              "      <td>2</td>\n",
              "      <td>Graduate</td>\n",
              "      <td>No</td>\n",
              "      <td>2340</td>\n",
              "      <td>2546</td>\n",
              "      <td>100.0</td>\n",
              "      <td>360.0</td>\n",
              "      <td>NaN</td>\n",
              "      <td>Urban</td>\n",
              "    </tr>\n",
              "    <tr>\n",
              "      <th>4</th>\n",
              "      <td>LP001051</td>\n",
              "      <td>Male</td>\n",
              "      <td>No</td>\n",
              "      <td>0</td>\n",
              "      <td>Not Graduate</td>\n",
              "      <td>No</td>\n",
              "      <td>3276</td>\n",
              "      <td>0</td>\n",
              "      <td>78.0</td>\n",
              "      <td>360.0</td>\n",
              "      <td>1.0</td>\n",
              "      <td>Urban</td>\n",
              "    </tr>\n",
              "    <tr>\n",
              "      <th>...</th>\n",
              "      <td>...</td>\n",
              "      <td>...</td>\n",
              "      <td>...</td>\n",
              "      <td>...</td>\n",
              "      <td>...</td>\n",
              "      <td>...</td>\n",
              "      <td>...</td>\n",
              "      <td>...</td>\n",
              "      <td>...</td>\n",
              "      <td>...</td>\n",
              "      <td>...</td>\n",
              "      <td>...</td>\n",
              "    </tr>\n",
              "    <tr>\n",
              "      <th>362</th>\n",
              "      <td>LP002971</td>\n",
              "      <td>Male</td>\n",
              "      <td>Yes</td>\n",
              "      <td>3+</td>\n",
              "      <td>Not Graduate</td>\n",
              "      <td>Yes</td>\n",
              "      <td>4009</td>\n",
              "      <td>1777</td>\n",
              "      <td>113.0</td>\n",
              "      <td>360.0</td>\n",
              "      <td>1.0</td>\n",
              "      <td>Urban</td>\n",
              "    </tr>\n",
              "    <tr>\n",
              "      <th>363</th>\n",
              "      <td>LP002975</td>\n",
              "      <td>Male</td>\n",
              "      <td>Yes</td>\n",
              "      <td>0</td>\n",
              "      <td>Graduate</td>\n",
              "      <td>No</td>\n",
              "      <td>4158</td>\n",
              "      <td>709</td>\n",
              "      <td>115.0</td>\n",
              "      <td>360.0</td>\n",
              "      <td>1.0</td>\n",
              "      <td>Urban</td>\n",
              "    </tr>\n",
              "    <tr>\n",
              "      <th>364</th>\n",
              "      <td>LP002980</td>\n",
              "      <td>Male</td>\n",
              "      <td>No</td>\n",
              "      <td>0</td>\n",
              "      <td>Graduate</td>\n",
              "      <td>No</td>\n",
              "      <td>3250</td>\n",
              "      <td>1993</td>\n",
              "      <td>126.0</td>\n",
              "      <td>360.0</td>\n",
              "      <td>NaN</td>\n",
              "      <td>Semiurban</td>\n",
              "    </tr>\n",
              "    <tr>\n",
              "      <th>365</th>\n",
              "      <td>LP002986</td>\n",
              "      <td>Male</td>\n",
              "      <td>Yes</td>\n",
              "      <td>0</td>\n",
              "      <td>Graduate</td>\n",
              "      <td>No</td>\n",
              "      <td>5000</td>\n",
              "      <td>2393</td>\n",
              "      <td>158.0</td>\n",
              "      <td>360.0</td>\n",
              "      <td>1.0</td>\n",
              "      <td>Rural</td>\n",
              "    </tr>\n",
              "    <tr>\n",
              "      <th>366</th>\n",
              "      <td>LP002989</td>\n",
              "      <td>Male</td>\n",
              "      <td>No</td>\n",
              "      <td>0</td>\n",
              "      <td>Graduate</td>\n",
              "      <td>Yes</td>\n",
              "      <td>9200</td>\n",
              "      <td>0</td>\n",
              "      <td>98.0</td>\n",
              "      <td>180.0</td>\n",
              "      <td>1.0</td>\n",
              "      <td>Rural</td>\n",
              "    </tr>\n",
              "  </tbody>\n",
              "</table>\n",
              "<p>367 rows × 12 columns</p>\n",
              "</div>"
            ],
            "text/plain": [
              "      Loan_ID Gender Married Dependents     Education Self_Employed  \\\n",
              "0    LP001015   Male     Yes          0      Graduate            No   \n",
              "1    LP001022   Male     Yes          1      Graduate            No   \n",
              "2    LP001031   Male     Yes          2      Graduate            No   \n",
              "3    LP001035   Male     Yes          2      Graduate            No   \n",
              "4    LP001051   Male      No          0  Not Graduate            No   \n",
              "..        ...    ...     ...        ...           ...           ...   \n",
              "362  LP002971   Male     Yes         3+  Not Graduate           Yes   \n",
              "363  LP002975   Male     Yes          0      Graduate            No   \n",
              "364  LP002980   Male      No          0      Graduate            No   \n",
              "365  LP002986   Male     Yes          0      Graduate            No   \n",
              "366  LP002989   Male      No          0      Graduate           Yes   \n",
              "\n",
              "     ApplicantIncome  CoapplicantIncome  LoanAmount  Loan_Amount_Term  \\\n",
              "0               5720                  0       110.0             360.0   \n",
              "1               3076               1500       126.0             360.0   \n",
              "2               5000               1800       208.0             360.0   \n",
              "3               2340               2546       100.0             360.0   \n",
              "4               3276                  0        78.0             360.0   \n",
              "..               ...                ...         ...               ...   \n",
              "362             4009               1777       113.0             360.0   \n",
              "363             4158                709       115.0             360.0   \n",
              "364             3250               1993       126.0             360.0   \n",
              "365             5000               2393       158.0             360.0   \n",
              "366             9200                  0        98.0             180.0   \n",
              "\n",
              "     Credit_History Property_Area  \n",
              "0               1.0         Urban  \n",
              "1               1.0         Urban  \n",
              "2               1.0         Urban  \n",
              "3               NaN         Urban  \n",
              "4               1.0         Urban  \n",
              "..              ...           ...  \n",
              "362             1.0         Urban  \n",
              "363             1.0         Urban  \n",
              "364             NaN     Semiurban  \n",
              "365             1.0         Rural  \n",
              "366             1.0         Rural  \n",
              "\n",
              "[367 rows x 12 columns]"
            ]
          },
          "execution_count": 36,
          "metadata": {},
          "output_type": "execute_result"
        }
      ],
      "source": [
        "dtest"
      ]
    },
    {
      "cell_type": "code",
      "execution_count": 37,
      "metadata": {
        "id": "yDyIEtNnldbO"
      },
      "outputs": [],
      "source": [
        "dtest['Gender'] = dtest['Gender'].fillna( dtest['Gender'].dropna().mode().values[0] )\n",
        "dtest['Married'] = dtest['Married'].fillna( dtest['Married'].dropna().mode().values[0] )"
      ]
    },
    {
      "cell_type": "code",
      "execution_count": 38,
      "metadata": {
        "collapsed": true,
        "id": "L2oNS3nB_Bv9"
      },
      "outputs": [],
      "source": [
        "\n",
        "dtest['Gender'] = dtest['Gender'].map({'Female':0,'Male':1})\n",
        "dtest['Married'] = dtest['Married'].map({'No':0, 'Yes':1}).astype(int)\n",
        "dtest['Education'] = dtest['Education'].map({'Not Graduate':0, 'Graduate':1}).astype(int)\n",
        "dtest['Self_Employed'] = dtest['Self_Employed'].map({'No':0, 'Yes':1})\n",
        "dtest['Dependents'] = dtest['Dependents'].str.rstrip('+')\n",
        "# dtest['Gender'] = dtest['Gender'].fillna( dtest['Gender'].dropna().mode().values[0]).astype(int)\n",
        "dtest['Dependents'] = dtest['Dependents'].fillna( dtest['Dependents'].dropna().mode().values[0]).astype(int)\n",
        "dtest['Self_Employed'] = dtest['Self_Employed'].fillna( dtest['Self_Employed'].dropna().mode().values[0])\n",
        "dtest['LoanAmount'] = dtest['LoanAmount'].fillna( dtest['LoanAmount'].dropna().mode().values[0])\n",
        "dtest['Loan_Amount_Term'] = dtest['Loan_Amount_Term'].fillna( dtest['Loan_Amount_Term'].dropna().mode().values[0])\n",
        "dtest['Credit_History'] = dtest['Credit_History'].fillna( dtest['Credit_History'].dropna().mode().values[0] )"
      ]
    },
    {
      "cell_type": "code",
      "execution_count": 43,
      "metadata": {
        "id": "oBANTsSJjA0j"
      },
      "outputs": [
        {
          "data": {
            "text/plain": [
              "Gender\n",
              "1    297\n",
              "0     70\n",
              "Name: count, dtype: int64"
            ]
          },
          "execution_count": 43,
          "metadata": {},
          "output_type": "execute_result"
        }
      ],
      "source": [
        "dtest['Gender'].value_counts()\n"
      ]
    },
    {
      "cell_type": "code",
      "execution_count": 40,
      "metadata": {
        "colab": {
          "base_uri": "https://localhost:8080/"
        },
        "collapsed": true,
        "id": "9elGxw1S_BwA",
        "outputId": "2b58dabf-7a57-4285-9cd1-183b0852bbb6"
      },
      "outputs": [
        {
          "name": "stdout",
          "output_type": "stream",
          "text": [
            "Test Accuracy: 0.7886\n",
            "Test AUC Score: 0.7410\n"
          ]
        }
      ],
      "source": [
        "# Assuming you have already split data into training and test sets\n",
        "X_train, X_test, y_train, y_test = train_test_split(X, y, test_size=0.2, random_state=42)\n",
        "\n",
        "# Standardize the test set\n",
        "X_test_std = scaler.transform(X_test)\n",
        "\n",
        "# Make predictions\n",
        "y_test_pred = eclf.predict(X_test_std)\n",
        "\n",
        "# Evaluate\n",
        "accuracy_test = accuracy_score(y_test, y_test_pred)\n",
        "roc_auc_test = roc_auc_score(y_test, eclf.predict_proba(X_test_std)[:, 1])\n",
        "\n",
        "print(f\"Test Accuracy: {accuracy_test:.4f}\")\n",
        "print(f\"Test AUC Score: {roc_auc_test:.4f}\")\n"
      ]
    },
    {
      "cell_type": "markdown",
      "metadata": {
        "id": "bdeJBwM9_BwA"
      },
      "source": [
        " Predicting on the unseen dataset(test) using the voting classifier model"
      ]
    },
    {
      "cell_type": "code",
      "execution_count": 50,
      "metadata": {},
      "outputs": [
        {
          "data": {
            "text/plain": [
              "(123, 16)"
            ]
          },
          "execution_count": 50,
          "metadata": {},
          "output_type": "execute_result"
        }
      ],
      "source": [
        "X_test_std.shape"
      ]
    },
    {
      "cell_type": "code",
      "execution_count": 41,
      "metadata": {
        "collapsed": true,
        "id": "_EJ3O0_n_BwA"
      },
      "outputs": [],
      "source": [
        "\n",
        "# # Predict using the ensemble classifier\n",
        "# y_test_pred = eclf.predict(X_test_std)\n"
      ]
    },
    {
      "cell_type": "code",
      "execution_count": 42,
      "metadata": {
        "collapsed": true,
        "id": "hYEVVx6O_BwA"
      },
      "outputs": [
        {
          "ename": "ValueError",
          "evalue": "Length of values (123) does not match length of index (367)",
          "output_type": "error",
          "traceback": [
            "\u001b[1;31m---------------------------------------------------------------------------\u001b[0m",
            "\u001b[1;31mValueError\u001b[0m                                Traceback (most recent call last)",
            "Cell \u001b[1;32mIn[42], line 1\u001b[0m\n\u001b[1;32m----> 1\u001b[0m \u001b[43mdtest\u001b[49m\u001b[43m[\u001b[49m\u001b[38;5;124;43m'\u001b[39;49m\u001b[38;5;124;43mLoan_Status\u001b[39;49m\u001b[38;5;124;43m'\u001b[39;49m\u001b[43m]\u001b[49m \u001b[38;5;241m=\u001b[39m y_test_pred\n\u001b[0;32m      2\u001b[0m df_final \u001b[38;5;241m=\u001b[39m dtest\u001b[38;5;241m.\u001b[39mdrop([\u001b[38;5;124m'\u001b[39m\u001b[38;5;124mGender\u001b[39m\u001b[38;5;124m'\u001b[39m, \u001b[38;5;124m'\u001b[39m\u001b[38;5;124mMarried\u001b[39m\u001b[38;5;124m'\u001b[39m, \u001b[38;5;124m'\u001b[39m\u001b[38;5;124mDependents\u001b[39m\u001b[38;5;124m'\u001b[39m, \u001b[38;5;124m'\u001b[39m\u001b[38;5;124mEducation\u001b[39m\u001b[38;5;124m'\u001b[39m, \u001b[38;5;124m'\u001b[39m\u001b[38;5;124mSelf_Employed\u001b[39m\u001b[38;5;124m'\u001b[39m, \u001b[38;5;124m'\u001b[39m\u001b[38;5;124mApplicantIncome\u001b[39m\u001b[38;5;124m'\u001b[39m, \u001b[38;5;124m'\u001b[39m\u001b[38;5;124mCoapplicantIncome\u001b[39m\u001b[38;5;124m'\u001b[39m, \u001b[38;5;124m'\u001b[39m\u001b[38;5;124mLoanAmount\u001b[39m\u001b[38;5;124m'\u001b[39m, \u001b[38;5;124m'\u001b[39m\u001b[38;5;124mLoan_Amount_Term\u001b[39m\u001b[38;5;124m'\u001b[39m, \u001b[38;5;124m'\u001b[39m\u001b[38;5;124mCredit_History\u001b[39m\u001b[38;5;124m'\u001b[39m, \u001b[38;5;124m'\u001b[39m\u001b[38;5;124mProperty_Area\u001b[39m\u001b[38;5;124m'\u001b[39m], axis\u001b[38;5;241m=\u001b[39m\u001b[38;5;241m1\u001b[39m)\n",
            "File \u001b[1;32m~\\AppData\\Roaming\\Python\\Python312\\site-packages\\pandas\\core\\frame.py:4311\u001b[0m, in \u001b[0;36mDataFrame.__setitem__\u001b[1;34m(self, key, value)\u001b[0m\n\u001b[0;32m   4308\u001b[0m     \u001b[38;5;28mself\u001b[39m\u001b[38;5;241m.\u001b[39m_setitem_array([key], value)\n\u001b[0;32m   4309\u001b[0m \u001b[38;5;28;01melse\u001b[39;00m:\n\u001b[0;32m   4310\u001b[0m     \u001b[38;5;66;03m# set column\u001b[39;00m\n\u001b[1;32m-> 4311\u001b[0m     \u001b[38;5;28;43mself\u001b[39;49m\u001b[38;5;241;43m.\u001b[39;49m\u001b[43m_set_item\u001b[49m\u001b[43m(\u001b[49m\u001b[43mkey\u001b[49m\u001b[43m,\u001b[49m\u001b[43m \u001b[49m\u001b[43mvalue\u001b[49m\u001b[43m)\u001b[49m\n",
            "File \u001b[1;32m~\\AppData\\Roaming\\Python\\Python312\\site-packages\\pandas\\core\\frame.py:4524\u001b[0m, in \u001b[0;36mDataFrame._set_item\u001b[1;34m(self, key, value)\u001b[0m\n\u001b[0;32m   4514\u001b[0m \u001b[38;5;28;01mdef\u001b[39;00m \u001b[38;5;21m_set_item\u001b[39m(\u001b[38;5;28mself\u001b[39m, key, value) \u001b[38;5;241m-\u001b[39m\u001b[38;5;241m>\u001b[39m \u001b[38;5;28;01mNone\u001b[39;00m:\n\u001b[0;32m   4515\u001b[0m \u001b[38;5;250m    \u001b[39m\u001b[38;5;124;03m\"\"\"\u001b[39;00m\n\u001b[0;32m   4516\u001b[0m \u001b[38;5;124;03m    Add series to DataFrame in specified column.\u001b[39;00m\n\u001b[0;32m   4517\u001b[0m \n\u001b[1;32m   (...)\u001b[0m\n\u001b[0;32m   4522\u001b[0m \u001b[38;5;124;03m    ensure homogeneity.\u001b[39;00m\n\u001b[0;32m   4523\u001b[0m \u001b[38;5;124;03m    \"\"\"\u001b[39;00m\n\u001b[1;32m-> 4524\u001b[0m     value, refs \u001b[38;5;241m=\u001b[39m \u001b[38;5;28;43mself\u001b[39;49m\u001b[38;5;241;43m.\u001b[39;49m\u001b[43m_sanitize_column\u001b[49m\u001b[43m(\u001b[49m\u001b[43mvalue\u001b[49m\u001b[43m)\u001b[49m\n\u001b[0;32m   4526\u001b[0m     \u001b[38;5;28;01mif\u001b[39;00m (\n\u001b[0;32m   4527\u001b[0m         key \u001b[38;5;129;01min\u001b[39;00m \u001b[38;5;28mself\u001b[39m\u001b[38;5;241m.\u001b[39mcolumns\n\u001b[0;32m   4528\u001b[0m         \u001b[38;5;129;01mand\u001b[39;00m value\u001b[38;5;241m.\u001b[39mndim \u001b[38;5;241m==\u001b[39m \u001b[38;5;241m1\u001b[39m\n\u001b[0;32m   4529\u001b[0m         \u001b[38;5;129;01mand\u001b[39;00m \u001b[38;5;129;01mnot\u001b[39;00m \u001b[38;5;28misinstance\u001b[39m(value\u001b[38;5;241m.\u001b[39mdtype, ExtensionDtype)\n\u001b[0;32m   4530\u001b[0m     ):\n\u001b[0;32m   4531\u001b[0m         \u001b[38;5;66;03m# broadcast across multiple columns if necessary\u001b[39;00m\n\u001b[0;32m   4532\u001b[0m         \u001b[38;5;28;01mif\u001b[39;00m \u001b[38;5;129;01mnot\u001b[39;00m \u001b[38;5;28mself\u001b[39m\u001b[38;5;241m.\u001b[39mcolumns\u001b[38;5;241m.\u001b[39mis_unique \u001b[38;5;129;01mor\u001b[39;00m \u001b[38;5;28misinstance\u001b[39m(\u001b[38;5;28mself\u001b[39m\u001b[38;5;241m.\u001b[39mcolumns, MultiIndex):\n",
            "File \u001b[1;32m~\\AppData\\Roaming\\Python\\Python312\\site-packages\\pandas\\core\\frame.py:5266\u001b[0m, in \u001b[0;36mDataFrame._sanitize_column\u001b[1;34m(self, value)\u001b[0m\n\u001b[0;32m   5263\u001b[0m     \u001b[38;5;28;01mreturn\u001b[39;00m _reindex_for_setitem(value, \u001b[38;5;28mself\u001b[39m\u001b[38;5;241m.\u001b[39mindex)\n\u001b[0;32m   5265\u001b[0m \u001b[38;5;28;01mif\u001b[39;00m is_list_like(value):\n\u001b[1;32m-> 5266\u001b[0m     \u001b[43mcom\u001b[49m\u001b[38;5;241;43m.\u001b[39;49m\u001b[43mrequire_length_match\u001b[49m\u001b[43m(\u001b[49m\u001b[43mvalue\u001b[49m\u001b[43m,\u001b[49m\u001b[43m \u001b[49m\u001b[38;5;28;43mself\u001b[39;49m\u001b[38;5;241;43m.\u001b[39;49m\u001b[43mindex\u001b[49m\u001b[43m)\u001b[49m\n\u001b[0;32m   5267\u001b[0m arr \u001b[38;5;241m=\u001b[39m sanitize_array(value, \u001b[38;5;28mself\u001b[39m\u001b[38;5;241m.\u001b[39mindex, copy\u001b[38;5;241m=\u001b[39m\u001b[38;5;28;01mTrue\u001b[39;00m, allow_2d\u001b[38;5;241m=\u001b[39m\u001b[38;5;28;01mTrue\u001b[39;00m)\n\u001b[0;32m   5268\u001b[0m \u001b[38;5;28;01mif\u001b[39;00m (\n\u001b[0;32m   5269\u001b[0m     \u001b[38;5;28misinstance\u001b[39m(value, Index)\n\u001b[0;32m   5270\u001b[0m     \u001b[38;5;129;01mand\u001b[39;00m value\u001b[38;5;241m.\u001b[39mdtype \u001b[38;5;241m==\u001b[39m \u001b[38;5;124m\"\u001b[39m\u001b[38;5;124mobject\u001b[39m\u001b[38;5;124m\"\u001b[39m\n\u001b[1;32m   (...)\u001b[0m\n\u001b[0;32m   5273\u001b[0m     \u001b[38;5;66;03m# TODO: Remove kludge in sanitize_array for string mode when enforcing\u001b[39;00m\n\u001b[0;32m   5274\u001b[0m     \u001b[38;5;66;03m# this deprecation\u001b[39;00m\n",
            "File \u001b[1;32m~\\AppData\\Roaming\\Python\\Python312\\site-packages\\pandas\\core\\common.py:573\u001b[0m, in \u001b[0;36mrequire_length_match\u001b[1;34m(data, index)\u001b[0m\n\u001b[0;32m    569\u001b[0m \u001b[38;5;250m\u001b[39m\u001b[38;5;124;03m\"\"\"\u001b[39;00m\n\u001b[0;32m    570\u001b[0m \u001b[38;5;124;03mCheck the length of data matches the length of the index.\u001b[39;00m\n\u001b[0;32m    571\u001b[0m \u001b[38;5;124;03m\"\"\"\u001b[39;00m\n\u001b[0;32m    572\u001b[0m \u001b[38;5;28;01mif\u001b[39;00m \u001b[38;5;28mlen\u001b[39m(data) \u001b[38;5;241m!=\u001b[39m \u001b[38;5;28mlen\u001b[39m(index):\n\u001b[1;32m--> 573\u001b[0m     \u001b[38;5;28;01mraise\u001b[39;00m \u001b[38;5;167;01mValueError\u001b[39;00m(\n\u001b[0;32m    574\u001b[0m         \u001b[38;5;124m\"\u001b[39m\u001b[38;5;124mLength of values \u001b[39m\u001b[38;5;124m\"\u001b[39m\n\u001b[0;32m    575\u001b[0m         \u001b[38;5;124mf\u001b[39m\u001b[38;5;124m\"\u001b[39m\u001b[38;5;124m(\u001b[39m\u001b[38;5;132;01m{\u001b[39;00m\u001b[38;5;28mlen\u001b[39m(data)\u001b[38;5;132;01m}\u001b[39;00m\u001b[38;5;124m) \u001b[39m\u001b[38;5;124m\"\u001b[39m\n\u001b[0;32m    576\u001b[0m         \u001b[38;5;124m\"\u001b[39m\u001b[38;5;124mdoes not match length of index \u001b[39m\u001b[38;5;124m\"\u001b[39m\n\u001b[0;32m    577\u001b[0m         \u001b[38;5;124mf\u001b[39m\u001b[38;5;124m\"\u001b[39m\u001b[38;5;124m(\u001b[39m\u001b[38;5;132;01m{\u001b[39;00m\u001b[38;5;28mlen\u001b[39m(index)\u001b[38;5;132;01m}\u001b[39;00m\u001b[38;5;124m)\u001b[39m\u001b[38;5;124m\"\u001b[39m\n\u001b[0;32m    578\u001b[0m     )\n",
            "\u001b[1;31mValueError\u001b[0m: Length of values (123) does not match length of index (367)"
          ]
        }
      ],
      "source": [
        "dtest['Loan_Status'] = y_test_pred\n",
        "df_final = dtest.drop(['Gender', 'Married', 'Dependents', 'Education', 'Self_Employed', 'ApplicantIncome', 'CoapplicantIncome', 'LoanAmount', 'Loan_Amount_Term', 'Credit_History', 'Property_Area'], axis=1)"
      ]
    },
    {
      "cell_type": "code",
      "execution_count": 119,
      "metadata": {
        "collapsed": true,
        "id": "3uQBJmLX_BwA"
      },
      "outputs": [],
      "source": [
        "df_final['Loan_Status'] = df_final['Loan_Status'].map({0:'N', 1:'Y'})"
      ]
    },
    {
      "cell_type": "code",
      "execution_count": 124,
      "metadata": {
        "colab": {
          "base_uri": "https://localhost:8080/"
        },
        "id": "fBhoFa2wvgyu",
        "outputId": "38b4630f-62ae-411e-fa4f-3f47aab8f654"
      },
      "outputs": [
        {
          "name": "stdout",
          "output_type": "stream",
          "text": [
            "Length of y_test: 123\n",
            "Length of y_test_pred: 367\n"
          ]
        }
      ],
      "source": [
        "print(f\"Length of y_test: {len(y_test)}\")\n",
        "print(f\"Length of y_test_pred: {len(y_test_pred)}\")\n"
      ]
    },
    {
      "cell_type": "code",
      "execution_count": 128,
      "metadata": {
        "collapsed": true,
        "id": "ehaz-Cc6_BwA"
      },
      "outputs": [],
      "source": [
        "df_final.to_csv('data/my_submission8.csv', index=False)\n"
      ]
    },
    {
      "cell_type": "code",
      "execution_count": 121,
      "metadata": {
        "colab": {
          "base_uri": "https://localhost:8080/",
          "height": 419
        },
        "id": "Vu99opr4_BwA",
        "outputId": "55ec0ce9-b8d1-46a5-a963-58c5b2a0f6bf"
      },
      "outputs": [
        {
          "data": {
            "application/vnd.google.colaboratory.intrinsic+json": {
              "summary": "{\n  \"name\": \"df_final\",\n  \"rows\": 367,\n  \"fields\": [\n    {\n      \"column\": \"Loan_ID\",\n      \"properties\": {\n        \"dtype\": \"string\",\n        \"num_unique_values\": 367,\n        \"samples\": [\n          \"LP002070\",\n          \"LP001187\",\n          \"LP001099\"\n        ],\n        \"semantic_type\": \"\",\n        \"description\": \"\"\n      }\n    },\n    {\n      \"column\": \"Loan_Status\",\n      \"properties\": {\n        \"dtype\": \"category\",\n        \"num_unique_values\": 2,\n        \"samples\": [\n          \"N\",\n          \"Y\"\n        ],\n        \"semantic_type\": \"\",\n        \"description\": \"\"\n      }\n    }\n  ]\n}",
              "type": "dataframe",
              "variable_name": "df_final"
            },
            "text/html": [
              "\n",
              "  <div id=\"df-b37ffb9e-c0d2-49cd-b58a-ca519b438613\" class=\"colab-df-container\">\n",
              "    <div>\n",
              "<style scoped>\n",
              "    .dataframe tbody tr th:only-of-type {\n",
              "        vertical-align: middle;\n",
              "    }\n",
              "\n",
              "    .dataframe tbody tr th {\n",
              "        vertical-align: top;\n",
              "    }\n",
              "\n",
              "    .dataframe thead th {\n",
              "        text-align: right;\n",
              "    }\n",
              "</style>\n",
              "<table border=\"1\" class=\"dataframe\">\n",
              "  <thead>\n",
              "    <tr style=\"text-align: right;\">\n",
              "      <th></th>\n",
              "      <th>Loan_ID</th>\n",
              "      <th>Loan_Status</th>\n",
              "    </tr>\n",
              "  </thead>\n",
              "  <tbody>\n",
              "    <tr>\n",
              "      <th>0</th>\n",
              "      <td>LP001015</td>\n",
              "      <td>Y</td>\n",
              "    </tr>\n",
              "    <tr>\n",
              "      <th>1</th>\n",
              "      <td>LP001022</td>\n",
              "      <td>Y</td>\n",
              "    </tr>\n",
              "    <tr>\n",
              "      <th>2</th>\n",
              "      <td>LP001031</td>\n",
              "      <td>Y</td>\n",
              "    </tr>\n",
              "    <tr>\n",
              "      <th>3</th>\n",
              "      <td>LP001035</td>\n",
              "      <td>Y</td>\n",
              "    </tr>\n",
              "    <tr>\n",
              "      <th>4</th>\n",
              "      <td>LP001051</td>\n",
              "      <td>Y</td>\n",
              "    </tr>\n",
              "    <tr>\n",
              "      <th>...</th>\n",
              "      <td>...</td>\n",
              "      <td>...</td>\n",
              "    </tr>\n",
              "    <tr>\n",
              "      <th>362</th>\n",
              "      <td>LP002971</td>\n",
              "      <td>Y</td>\n",
              "    </tr>\n",
              "    <tr>\n",
              "      <th>363</th>\n",
              "      <td>LP002975</td>\n",
              "      <td>Y</td>\n",
              "    </tr>\n",
              "    <tr>\n",
              "      <th>364</th>\n",
              "      <td>LP002980</td>\n",
              "      <td>Y</td>\n",
              "    </tr>\n",
              "    <tr>\n",
              "      <th>365</th>\n",
              "      <td>LP002986</td>\n",
              "      <td>Y</td>\n",
              "    </tr>\n",
              "    <tr>\n",
              "      <th>366</th>\n",
              "      <td>LP002989</td>\n",
              "      <td>Y</td>\n",
              "    </tr>\n",
              "  </tbody>\n",
              "</table>\n",
              "<p>367 rows × 2 columns</p>\n",
              "</div>\n",
              "    <div class=\"colab-df-buttons\">\n",
              "\n",
              "  <div class=\"colab-df-container\">\n",
              "    <button class=\"colab-df-convert\" onclick=\"convertToInteractive('df-b37ffb9e-c0d2-49cd-b58a-ca519b438613')\"\n",
              "            title=\"Convert this dataframe to an interactive table.\"\n",
              "            style=\"display:none;\">\n",
              "\n",
              "  <svg xmlns=\"http://www.w3.org/2000/svg\" height=\"24px\" viewBox=\"0 -960 960 960\">\n",
              "    <path d=\"M120-120v-720h720v720H120Zm60-500h600v-160H180v160Zm220 220h160v-160H400v160Zm0 220h160v-160H400v160ZM180-400h160v-160H180v160Zm440 0h160v-160H620v160ZM180-180h160v-160H180v160Zm440 0h160v-160H620v160Z\"/>\n",
              "  </svg>\n",
              "    </button>\n",
              "\n",
              "  <style>\n",
              "    .colab-df-container {\n",
              "      display:flex;\n",
              "      gap: 12px;\n",
              "    }\n",
              "\n",
              "    .colab-df-convert {\n",
              "      background-color: #E8F0FE;\n",
              "      border: none;\n",
              "      border-radius: 50%;\n",
              "      cursor: pointer;\n",
              "      display: none;\n",
              "      fill: #1967D2;\n",
              "      height: 32px;\n",
              "      padding: 0 0 0 0;\n",
              "      width: 32px;\n",
              "    }\n",
              "\n",
              "    .colab-df-convert:hover {\n",
              "      background-color: #E2EBFA;\n",
              "      box-shadow: 0px 1px 2px rgba(60, 64, 67, 0.3), 0px 1px 3px 1px rgba(60, 64, 67, 0.15);\n",
              "      fill: #174EA6;\n",
              "    }\n",
              "\n",
              "    .colab-df-buttons div {\n",
              "      margin-bottom: 4px;\n",
              "    }\n",
              "\n",
              "    [theme=dark] .colab-df-convert {\n",
              "      background-color: #3B4455;\n",
              "      fill: #D2E3FC;\n",
              "    }\n",
              "\n",
              "    [theme=dark] .colab-df-convert:hover {\n",
              "      background-color: #434B5C;\n",
              "      box-shadow: 0px 1px 3px 1px rgba(0, 0, 0, 0.15);\n",
              "      filter: drop-shadow(0px 1px 2px rgba(0, 0, 0, 0.3));\n",
              "      fill: #FFFFFF;\n",
              "    }\n",
              "  </style>\n",
              "\n",
              "    <script>\n",
              "      const buttonEl =\n",
              "        document.querySelector('#df-b37ffb9e-c0d2-49cd-b58a-ca519b438613 button.colab-df-convert');\n",
              "      buttonEl.style.display =\n",
              "        google.colab.kernel.accessAllowed ? 'block' : 'none';\n",
              "\n",
              "      async function convertToInteractive(key) {\n",
              "        const element = document.querySelector('#df-b37ffb9e-c0d2-49cd-b58a-ca519b438613');\n",
              "        const dataTable =\n",
              "          await google.colab.kernel.invokeFunction('convertToInteractive',\n",
              "                                                    [key], {});\n",
              "        if (!dataTable) return;\n",
              "\n",
              "        const docLinkHtml = 'Like what you see? Visit the ' +\n",
              "          '<a target=\"_blank\" href=https://colab.research.google.com/notebooks/data_table.ipynb>data table notebook</a>'\n",
              "          + ' to learn more about interactive tables.';\n",
              "        element.innerHTML = '';\n",
              "        dataTable['output_type'] = 'display_data';\n",
              "        await google.colab.output.renderOutput(dataTable, element);\n",
              "        const docLink = document.createElement('div');\n",
              "        docLink.innerHTML = docLinkHtml;\n",
              "        element.appendChild(docLink);\n",
              "      }\n",
              "    </script>\n",
              "  </div>\n",
              "\n",
              "\n",
              "<div id=\"df-00af572c-eab8-4ce1-be43-2b75a1a7e2fc\">\n",
              "  <button class=\"colab-df-quickchart\" onclick=\"quickchart('df-00af572c-eab8-4ce1-be43-2b75a1a7e2fc')\"\n",
              "            title=\"Suggest charts\"\n",
              "            style=\"display:none;\">\n",
              "\n",
              "<svg xmlns=\"http://www.w3.org/2000/svg\" height=\"24px\"viewBox=\"0 0 24 24\"\n",
              "     width=\"24px\">\n",
              "    <g>\n",
              "        <path d=\"M19 3H5c-1.1 0-2 .9-2 2v14c0 1.1.9 2 2 2h14c1.1 0 2-.9 2-2V5c0-1.1-.9-2-2-2zM9 17H7v-7h2v7zm4 0h-2V7h2v10zm4 0h-2v-4h2v4z\"/>\n",
              "    </g>\n",
              "</svg>\n",
              "  </button>\n",
              "\n",
              "<style>\n",
              "  .colab-df-quickchart {\n",
              "      --bg-color: #E8F0FE;\n",
              "      --fill-color: #1967D2;\n",
              "      --hover-bg-color: #E2EBFA;\n",
              "      --hover-fill-color: #174EA6;\n",
              "      --disabled-fill-color: #AAA;\n",
              "      --disabled-bg-color: #DDD;\n",
              "  }\n",
              "\n",
              "  [theme=dark] .colab-df-quickchart {\n",
              "      --bg-color: #3B4455;\n",
              "      --fill-color: #D2E3FC;\n",
              "      --hover-bg-color: #434B5C;\n",
              "      --hover-fill-color: #FFFFFF;\n",
              "      --disabled-bg-color: #3B4455;\n",
              "      --disabled-fill-color: #666;\n",
              "  }\n",
              "\n",
              "  .colab-df-quickchart {\n",
              "    background-color: var(--bg-color);\n",
              "    border: none;\n",
              "    border-radius: 50%;\n",
              "    cursor: pointer;\n",
              "    display: none;\n",
              "    fill: var(--fill-color);\n",
              "    height: 32px;\n",
              "    padding: 0;\n",
              "    width: 32px;\n",
              "  }\n",
              "\n",
              "  .colab-df-quickchart:hover {\n",
              "    background-color: var(--hover-bg-color);\n",
              "    box-shadow: 0 1px 2px rgba(60, 64, 67, 0.3), 0 1px 3px 1px rgba(60, 64, 67, 0.15);\n",
              "    fill: var(--button-hover-fill-color);\n",
              "  }\n",
              "\n",
              "  .colab-df-quickchart-complete:disabled,\n",
              "  .colab-df-quickchart-complete:disabled:hover {\n",
              "    background-color: var(--disabled-bg-color);\n",
              "    fill: var(--disabled-fill-color);\n",
              "    box-shadow: none;\n",
              "  }\n",
              "\n",
              "  .colab-df-spinner {\n",
              "    border: 2px solid var(--fill-color);\n",
              "    border-color: transparent;\n",
              "    border-bottom-color: var(--fill-color);\n",
              "    animation:\n",
              "      spin 1s steps(1) infinite;\n",
              "  }\n",
              "\n",
              "  @keyframes spin {\n",
              "    0% {\n",
              "      border-color: transparent;\n",
              "      border-bottom-color: var(--fill-color);\n",
              "      border-left-color: var(--fill-color);\n",
              "    }\n",
              "    20% {\n",
              "      border-color: transparent;\n",
              "      border-left-color: var(--fill-color);\n",
              "      border-top-color: var(--fill-color);\n",
              "    }\n",
              "    30% {\n",
              "      border-color: transparent;\n",
              "      border-left-color: var(--fill-color);\n",
              "      border-top-color: var(--fill-color);\n",
              "      border-right-color: var(--fill-color);\n",
              "    }\n",
              "    40% {\n",
              "      border-color: transparent;\n",
              "      border-right-color: var(--fill-color);\n",
              "      border-top-color: var(--fill-color);\n",
              "    }\n",
              "    60% {\n",
              "      border-color: transparent;\n",
              "      border-right-color: var(--fill-color);\n",
              "    }\n",
              "    80% {\n",
              "      border-color: transparent;\n",
              "      border-right-color: var(--fill-color);\n",
              "      border-bottom-color: var(--fill-color);\n",
              "    }\n",
              "    90% {\n",
              "      border-color: transparent;\n",
              "      border-bottom-color: var(--fill-color);\n",
              "    }\n",
              "  }\n",
              "</style>\n",
              "\n",
              "  <script>\n",
              "    async function quickchart(key) {\n",
              "      const quickchartButtonEl =\n",
              "        document.querySelector('#' + key + ' button');\n",
              "      quickchartButtonEl.disabled = true;  // To prevent multiple clicks.\n",
              "      quickchartButtonEl.classList.add('colab-df-spinner');\n",
              "      try {\n",
              "        const charts = await google.colab.kernel.invokeFunction(\n",
              "            'suggestCharts', [key], {});\n",
              "      } catch (error) {\n",
              "        console.error('Error during call to suggestCharts:', error);\n",
              "      }\n",
              "      quickchartButtonEl.classList.remove('colab-df-spinner');\n",
              "      quickchartButtonEl.classList.add('colab-df-quickchart-complete');\n",
              "    }\n",
              "    (() => {\n",
              "      let quickchartButtonEl =\n",
              "        document.querySelector('#df-00af572c-eab8-4ce1-be43-2b75a1a7e2fc button');\n",
              "      quickchartButtonEl.style.display =\n",
              "        google.colab.kernel.accessAllowed ? 'block' : 'none';\n",
              "    })();\n",
              "  </script>\n",
              "</div>\n",
              "\n",
              "  <div id=\"id_f50e728c-1460-4a79-933b-b4a7f9055ca9\">\n",
              "    <style>\n",
              "      .colab-df-generate {\n",
              "        background-color: #E8F0FE;\n",
              "        border: none;\n",
              "        border-radius: 50%;\n",
              "        cursor: pointer;\n",
              "        display: none;\n",
              "        fill: #1967D2;\n",
              "        height: 32px;\n",
              "        padding: 0 0 0 0;\n",
              "        width: 32px;\n",
              "      }\n",
              "\n",
              "      .colab-df-generate:hover {\n",
              "        background-color: #E2EBFA;\n",
              "        box-shadow: 0px 1px 2px rgba(60, 64, 67, 0.3), 0px 1px 3px 1px rgba(60, 64, 67, 0.15);\n",
              "        fill: #174EA6;\n",
              "      }\n",
              "\n",
              "      [theme=dark] .colab-df-generate {\n",
              "        background-color: #3B4455;\n",
              "        fill: #D2E3FC;\n",
              "      }\n",
              "\n",
              "      [theme=dark] .colab-df-generate:hover {\n",
              "        background-color: #434B5C;\n",
              "        box-shadow: 0px 1px 3px 1px rgba(0, 0, 0, 0.15);\n",
              "        filter: drop-shadow(0px 1px 2px rgba(0, 0, 0, 0.3));\n",
              "        fill: #FFFFFF;\n",
              "      }\n",
              "    </style>\n",
              "    <button class=\"colab-df-generate\" onclick=\"generateWithVariable('df_final')\"\n",
              "            title=\"Generate code using this dataframe.\"\n",
              "            style=\"display:none;\">\n",
              "\n",
              "  <svg xmlns=\"http://www.w3.org/2000/svg\" height=\"24px\"viewBox=\"0 0 24 24\"\n",
              "       width=\"24px\">\n",
              "    <path d=\"M7,19H8.4L18.45,9,17,7.55,7,17.6ZM5,21V16.75L18.45,3.32a2,2,0,0,1,2.83,0l1.4,1.43a1.91,1.91,0,0,1,.58,1.4,1.91,1.91,0,0,1-.58,1.4L9.25,21ZM18.45,9,17,7.55Zm-12,3A5.31,5.31,0,0,0,4.9,8.1,5.31,5.31,0,0,0,1,6.5,5.31,5.31,0,0,0,4.9,4.9,5.31,5.31,0,0,0,6.5,1,5.31,5.31,0,0,0,8.1,4.9,5.31,5.31,0,0,0,12,6.5,5.46,5.46,0,0,0,6.5,12Z\"/>\n",
              "  </svg>\n",
              "    </button>\n",
              "    <script>\n",
              "      (() => {\n",
              "      const buttonEl =\n",
              "        document.querySelector('#id_f50e728c-1460-4a79-933b-b4a7f9055ca9 button.colab-df-generate');\n",
              "      buttonEl.style.display =\n",
              "        google.colab.kernel.accessAllowed ? 'block' : 'none';\n",
              "\n",
              "      buttonEl.onclick = () => {\n",
              "        google.colab.notebook.generateWithVariable('df_final');\n",
              "      }\n",
              "      })();\n",
              "    </script>\n",
              "  </div>\n",
              "\n",
              "    </div>\n",
              "  </div>\n"
            ],
            "text/plain": [
              "      Loan_ID Loan_Status\n",
              "0    LP001015           Y\n",
              "1    LP001022           Y\n",
              "2    LP001031           Y\n",
              "3    LP001035           Y\n",
              "4    LP001051           Y\n",
              "..        ...         ...\n",
              "362  LP002971           Y\n",
              "363  LP002975           Y\n",
              "364  LP002980           Y\n",
              "365  LP002986           Y\n",
              "366  LP002989           Y\n",
              "\n",
              "[367 rows x 2 columns]"
            ]
          },
          "execution_count": 121,
          "metadata": {},
          "output_type": "execute_result"
        }
      ],
      "source": [
        "df_final"
      ]
    }
  ],
  "metadata": {
    "colab": {
      "provenance": []
    },
    "kernelspec": {
      "display_name": "Python 3",
      "language": "python",
      "name": "python3"
    },
    "language_info": {
      "codemirror_mode": {
        "name": "ipython",
        "version": 3
      },
      "file_extension": ".py",
      "mimetype": "text/x-python",
      "name": "python",
      "nbconvert_exporter": "python",
      "pygments_lexer": "ipython3",
      "version": "3.12.4"
    }
  },
  "nbformat": 4,
  "nbformat_minor": 0
}
