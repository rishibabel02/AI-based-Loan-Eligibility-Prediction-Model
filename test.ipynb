{
 "cells": [
  {
   "cell_type": "code",
   "execution_count": 1,
   "metadata": {},
   "outputs": [],
   "source": [
    "%matplotlib inline\n",
    "import numpy as np\n",
    "import pandas as pd\n",
    "import seaborn as sns\n",
    "sns.set(style='darkgrid')\n",
    "import matplotlib.pyplot as plt\n",
    "\n",
    "# Load dataset\n",
    "df = pd.read_csv('data/train_u6lujuX_CVtuZ9i.csv')\n",
    "\n",
    "# Handle missing values\n",
    "df['Gender'] = df['Gender'].fillna(df['Gender'].dropna().mode().values[0])\n",
    "df['Married'] = df['Married'].fillna(df['Married'].dropna().mode().values[0])\n",
    "df['Dependents'] = df['Dependents'].fillna('0').str.rstrip('+')  # Change 1\n",
    "df['Self_Employed'] = df['Self_Employed'].fillna(df['Self_Employed'].dropna().mode().values[0])\n",
    "df['LoanAmount'] = df['LoanAmount'].fillna(df['LoanAmount'].dropna().mean())\n",
    "df['Loan_Amount_Term'] = df['Loan_Amount_Term'].fillna(df['Loan_Amount_Term'].dropna().mode().values[0])\n",
    "df['Credit_History'] = df['Credit_History'].fillna(df['Credit_History'].dropna().mode().values[0])\n",
    "\n",
    "# Convert 'Dependents' to numeric safely\n",
    "df['Dependents'] = pd.to_numeric(df['Dependents'], errors='coerce').fillna(0).astype(int)  # Change 2\n",
    "\n",
    "# Categorical variable encoding\n",
    "df['Gender'] = df['Gender'].map({'Female': 0, 'Male': 1}).astype(int)\n",
    "df['Married'] = df['Married'].map({'No': 0, 'Yes': 1}).astype(int)\n",
    "df['Education'] = df['Education'].map({'Not Graduate': 0, 'Graduate': 1}).astype(int)\n",
    "df['Self_Employed'] = df['Self_Employed'].map({'No': 0, 'Yes': 1}).astype(int)\n",
    "df['Loan_Status'] = df['Loan_Status'].map({'N': 0, 'Y': 1}).astype(int)\n",
    "\n",
    "# Verify data types\n",
    "df.dtypes\n",
    "\n",
    "# Split into features and target\n",
    "X, y = df.iloc[:, 1:-1], df.iloc[:, -1]\n",
    "\n",
    "# One-hot encoding for categorical variables\n",
    "X = pd.get_dummies(X)"
   ]
  },
  {
   "cell_type": "markdown",
   "metadata": {},
   "source": [
    "I defined a function which will help us to create xgboost models and perform cross validation"
   ]
  },
  {
   "cell_type": "code",
   "execution_count": 3,
   "metadata": {},
   "outputs": [],
   "source": [
    "dtrain= pd.get_dummies(df)\n",
    "import xgboost as xgb\n",
    "from sklearn import model_selection, metrics\n",
    "from sklearn.model_selection import GridSearchCV\n",
    "\n",
    "\n",
    "train = dtrain\n",
    "target = 'Loan_Status'\n",
    "IDcol = 'Loan_ID'"
   ]
  },
  {
   "cell_type": "code",
   "execution_count": 12,
   "metadata": {},
   "outputs": [],
   "source": [
    "predictors = [x for x in train.columns if x not in [target, IDcol]]\n",
    "\n",
    "def modelfit(alg, dtrain, predictors, useTrainCV=True, cv_folds=5, early_stopping_rounds=50):\n",
    "    if useTrainCV:\n",
    "        xgb_param = alg.get_xgb_params()\n",
    "        xgtrain = xgb.DMatrix(dtrain[predictors].values, label=dtrain[target].values)\n",
    "        cvresult = xgb.cv(\n",
    "            xgb_param,\n",
    "            xgtrain,\n",
    "            num_boost_round=alg.get_params()['n_estimators'],\n",
    "            nfold=cv_folds,\n",
    "            metrics='auc',\n",
    "            early_stopping_rounds=early_stopping_rounds\n",
    "        )\n",
    "        alg.set_params(n_estimators=cvresult.shape[0])\n",
    "\n",
    "    # Fit the algorithm on the data\n",
    "    alg.fit(dtrain[predictors ], dtrain[target])\n",
    "\n",
    "    # Predict training set\n",
    "    dtrain_predictions = alg.predict(dtrain[predictors])\n",
    "    dtrain_predprob = alg.predict_proba(dtrain[predictors])[:,1]\n",
    "\n",
    "    # Print model report\n",
    "    print(\"\\nModel Report\")\n",
    "    print(\"Accuracy : %.4g\" % metrics.accuracy_score(dtrain[target], dtrain_predictions))\n",
    "    print(\"AUC Score (Train): %f\" % metrics.roc_auc_score(dtrain[target], dtrain_predprob))\n"
   ]
  },
  {
   "cell_type": "code",
   "execution_count": 8,
   "metadata": {},
   "outputs": [],
   "source": [
    "from xgboost import XGBClassifier"
   ]
  },
  {
   "cell_type": "code",
   "execution_count": 14,
   "metadata": {},
   "outputs": [
    {
     "name": "stdout",
     "output_type": "stream",
     "text": [
      "\n",
      "Model Report\n",
      "Accuracy : 0.9153\n",
      "AUC Score (Train): 0.985733\n"
     ]
    }
   ],
   "source": [
    "predictors = [x for x in train.columns if x not in [target, IDcol]]\n",
    "\n",
    "# Initialize the model\n",
    "xgb2 = XGBClassifier(\n",
    "    learning_rate=0.1,\n",
    "    n_estimators=1000,\n",
    "    max_depth=5,\n",
    "    min_child_weight=1,\n",
    "    gamma=0,\n",
    "    subsample=0.8,\n",
    "    colsample_bytree=0.8,\n",
    "    objective='binary:logistic',\n",
    "    n_jobs=4,  # Updated from nthread\n",
    "    scale_pos_weight=1,\n",
    "    random_state=27  # Updated from seed\n",
    ")\n",
    "\n",
    "# Fit the model\n",
    "modelfit(xgb2, train, predictors)"
   ]
  },
  {
   "cell_type": "markdown",
   "metadata": {},
   "source": [
    "Parameter Tuning For XGBoost model"
   ]
  },
  {
   "cell_type": "code",
   "execution_count": 15,
   "metadata": {},
   "outputs": [
    {
     "name": "stdout",
     "output_type": "stream",
     "text": [
      "Best parameters after test 1: {'max_depth': 5, 'min_child_weight': 5}\n",
      "Best AUC score after test 1: 0.7650016821843446\n"
     ]
    }
   ],
   "source": [
    "param_test1 = {\n",
    "    'max_depth': list(range(3, 10, 2)),\n",
    "    'min_child_weight': list(range(1, 6, 2))\n",
    "}\n",
    "\n",
    "# Initialize GridSearchCV without 'iid' parameter\n",
    "gsearch1 = GridSearchCV(\n",
    "    estimator=XGBClassifier(\n",
    "        learning_rate=0.1,\n",
    "        n_estimators=140,\n",
    "        max_depth=5,\n",
    "        min_child_weight=1,\n",
    "        gamma=0,\n",
    "        subsample=0.8,\n",
    "        colsample_bytree=0.8,\n",
    "        objective='binary:logistic',\n",
    "        n_jobs=4,\n",
    "        scale_pos_weight=1,\n",
    "        random_state=27  # Updated from 'seed'\n",
    "    ),\n",
    "    param_grid=param_test1,\n",
    "    scoring='roc_auc',\n",
    "    n_jobs=4,\n",
    "    cv=5\n",
    ")\n",
    "gsearch1.fit(train[predictors], train[target])\n",
    "print(\"Best parameters after test 1:\", gsearch1.best_params_)\n",
    "print(\"Best AUC score after test 1:\", gsearch1.best_score_)\n",
    "# gsearch1.grid_scores_, gsearch1.best_params_, gsearch1.best_score_"
   ]
  }
 ],
 "metadata": {
  "kernelspec": {
   "display_name": "Python 3",
   "language": "python",
   "name": "python3"
  },
  "language_info": {
   "codemirror_mode": {
    "name": "ipython",
    "version": 3
   },
   "file_extension": ".py",
   "mimetype": "text/x-python",
   "name": "python",
   "nbconvert_exporter": "python",
   "pygments_lexer": "ipython3",
   "version": "3.12.4"
  }
 },
 "nbformat": 4,
 "nbformat_minor": 2
}
